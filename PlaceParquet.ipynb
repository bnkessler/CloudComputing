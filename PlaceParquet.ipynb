{
 "cells": [
  {
   "cell_type": "code",
   "execution_count": 1,
   "id": "037139f2-08b5-4791-8f23-cdfe67bcf28d",
   "metadata": {
    "tags": []
   },
   "outputs": [],
   "source": [
    "# Importing necessary libraries for Parquet\n",
    "import pyarrow.csv as csv\n",
    "import pyarrow.parquet as pq\n",
    "import glob\n",
    "import os\n",
    "import pyarrow as pa\n",
    "from pyarrow import parquet\n",
    "import polars as pl\n",
    "from datetime import datetime"
   ]
  },
  {
   "cell_type": "code",
   "execution_count": 81,
   "id": "8299eef8-9251-4910-9abc-330f37bc69bc",
   "metadata": {
    "collapsed": true,
    "jupyter": {
     "outputs_hidden": true,
     "source_hidden": true
    },
    "tags": []
   },
   "outputs": [
    {
     "name": "stdout",
     "output_type": "stream",
     "text": [
      "reading /Users/ben/Documents/GitHub/CloudComputing/RedditPlaceData/2023_place_canvas_history-000000000000.csv\n",
      "writing /Users/ben/Documents/GitHub/CloudComputing/RedditPlaceData/2023_place_canvas_history-000000000000.csv\n",
      "reading /Users/ben/Documents/GitHub/CloudComputing/RedditPlaceData/2023_place_canvas_history-000000000001.csv\n",
      "writing /Users/ben/Documents/GitHub/CloudComputing/RedditPlaceData/2023_place_canvas_history-000000000001.csv\n",
      "reading /Users/ben/Documents/GitHub/CloudComputing/RedditPlaceData/2023_place_canvas_history-000000000002.csv\n",
      "writing /Users/ben/Documents/GitHub/CloudComputing/RedditPlaceData/2023_place_canvas_history-000000000002.csv\n",
      "reading /Users/ben/Documents/GitHub/CloudComputing/RedditPlaceData/2023_place_canvas_history-000000000003.csv\n",
      "writing /Users/ben/Documents/GitHub/CloudComputing/RedditPlaceData/2023_place_canvas_history-000000000003.csv\n",
      "reading /Users/ben/Documents/GitHub/CloudComputing/RedditPlaceData/2023_place_canvas_history-000000000004.csv\n",
      "writing /Users/ben/Documents/GitHub/CloudComputing/RedditPlaceData/2023_place_canvas_history-000000000004.csv\n",
      "reading /Users/ben/Documents/GitHub/CloudComputing/RedditPlaceData/2023_place_canvas_history-000000000005.csv\n",
      "writing /Users/ben/Documents/GitHub/CloudComputing/RedditPlaceData/2023_place_canvas_history-000000000005.csv\n",
      "reading /Users/ben/Documents/GitHub/CloudComputing/RedditPlaceData/2023_place_canvas_history-000000000006.csv\n",
      "writing /Users/ben/Documents/GitHub/CloudComputing/RedditPlaceData/2023_place_canvas_history-000000000006.csv\n",
      "reading /Users/ben/Documents/GitHub/CloudComputing/RedditPlaceData/2023_place_canvas_history-000000000007.csv\n",
      "writing /Users/ben/Documents/GitHub/CloudComputing/RedditPlaceData/2023_place_canvas_history-000000000007.csv\n",
      "reading /Users/ben/Documents/GitHub/CloudComputing/RedditPlaceData/2023_place_canvas_history-000000000008.csv\n",
      "writing /Users/ben/Documents/GitHub/CloudComputing/RedditPlaceData/2023_place_canvas_history-000000000008.csv\n",
      "reading /Users/ben/Documents/GitHub/CloudComputing/RedditPlaceData/2023_place_canvas_history-000000000009.csv\n",
      "writing /Users/ben/Documents/GitHub/CloudComputing/RedditPlaceData/2023_place_canvas_history-000000000009.csv\n",
      "reading /Users/ben/Documents/GitHub/CloudComputing/RedditPlaceData/2023_place_canvas_history-000000000010.csv\n",
      "writing /Users/ben/Documents/GitHub/CloudComputing/RedditPlaceData/2023_place_canvas_history-000000000010.csv\n",
      "reading /Users/ben/Documents/GitHub/CloudComputing/RedditPlaceData/2023_place_canvas_history-000000000011.csv\n",
      "writing /Users/ben/Documents/GitHub/CloudComputing/RedditPlaceData/2023_place_canvas_history-000000000011.csv\n",
      "reading /Users/ben/Documents/GitHub/CloudComputing/RedditPlaceData/2023_place_canvas_history-000000000012.csv\n",
      "writing /Users/ben/Documents/GitHub/CloudComputing/RedditPlaceData/2023_place_canvas_history-000000000012.csv\n",
      "reading /Users/ben/Documents/GitHub/CloudComputing/RedditPlaceData/2023_place_canvas_history-000000000013.csv\n",
      "writing /Users/ben/Documents/GitHub/CloudComputing/RedditPlaceData/2023_place_canvas_history-000000000013.csv\n",
      "reading /Users/ben/Documents/GitHub/CloudComputing/RedditPlaceData/2023_place_canvas_history-000000000014.csv\n",
      "writing /Users/ben/Documents/GitHub/CloudComputing/RedditPlaceData/2023_place_canvas_history-000000000014.csv\n",
      "reading /Users/ben/Documents/GitHub/CloudComputing/RedditPlaceData/2023_place_canvas_history-000000000015.csv\n",
      "writing /Users/ben/Documents/GitHub/CloudComputing/RedditPlaceData/2023_place_canvas_history-000000000015.csv\n",
      "reading /Users/ben/Documents/GitHub/CloudComputing/RedditPlaceData/2023_place_canvas_history-000000000016.csv\n",
      "writing /Users/ben/Documents/GitHub/CloudComputing/RedditPlaceData/2023_place_canvas_history-000000000016.csv\n",
      "reading /Users/ben/Documents/GitHub/CloudComputing/RedditPlaceData/2023_place_canvas_history-000000000017.csv\n",
      "writing /Users/ben/Documents/GitHub/CloudComputing/RedditPlaceData/2023_place_canvas_history-000000000017.csv\n",
      "reading /Users/ben/Documents/GitHub/CloudComputing/RedditPlaceData/2023_place_canvas_history-000000000018.csv\n",
      "writing /Users/ben/Documents/GitHub/CloudComputing/RedditPlaceData/2023_place_canvas_history-000000000018.csv\n",
      "reading /Users/ben/Documents/GitHub/CloudComputing/RedditPlaceData/2023_place_canvas_history-000000000019.csv\n",
      "writing /Users/ben/Documents/GitHub/CloudComputing/RedditPlaceData/2023_place_canvas_history-000000000019.csv\n",
      "reading /Users/ben/Documents/GitHub/CloudComputing/RedditPlaceData/2023_place_canvas_history-000000000020.csv\n",
      "writing /Users/ben/Documents/GitHub/CloudComputing/RedditPlaceData/2023_place_canvas_history-000000000020.csv\n",
      "reading /Users/ben/Documents/GitHub/CloudComputing/RedditPlaceData/2023_place_canvas_history-000000000021.csv\n",
      "writing /Users/ben/Documents/GitHub/CloudComputing/RedditPlaceData/2023_place_canvas_history-000000000021.csv\n",
      "reading /Users/ben/Documents/GitHub/CloudComputing/RedditPlaceData/2023_place_canvas_history-000000000022.csv\n",
      "writing /Users/ben/Documents/GitHub/CloudComputing/RedditPlaceData/2023_place_canvas_history-000000000022.csv\n",
      "reading /Users/ben/Documents/GitHub/CloudComputing/RedditPlaceData/2023_place_canvas_history-000000000023.csv\n",
      "writing /Users/ben/Documents/GitHub/CloudComputing/RedditPlaceData/2023_place_canvas_history-000000000023.csv\n",
      "reading /Users/ben/Documents/GitHub/CloudComputing/RedditPlaceData/2023_place_canvas_history-000000000024.csv\n",
      "writing /Users/ben/Documents/GitHub/CloudComputing/RedditPlaceData/2023_place_canvas_history-000000000024.csv\n",
      "reading /Users/ben/Documents/GitHub/CloudComputing/RedditPlaceData/2023_place_canvas_history-000000000025.csv\n",
      "writing /Users/ben/Documents/GitHub/CloudComputing/RedditPlaceData/2023_place_canvas_history-000000000025.csv\n",
      "reading /Users/ben/Documents/GitHub/CloudComputing/RedditPlaceData/2023_place_canvas_history-000000000026.csv\n",
      "writing /Users/ben/Documents/GitHub/CloudComputing/RedditPlaceData/2023_place_canvas_history-000000000026.csv\n",
      "reading /Users/ben/Documents/GitHub/CloudComputing/RedditPlaceData/2023_place_canvas_history-000000000027.csv\n",
      "writing /Users/ben/Documents/GitHub/CloudComputing/RedditPlaceData/2023_place_canvas_history-000000000027.csv\n",
      "reading /Users/ben/Documents/GitHub/CloudComputing/RedditPlaceData/2023_place_canvas_history-000000000028.csv\n",
      "writing /Users/ben/Documents/GitHub/CloudComputing/RedditPlaceData/2023_place_canvas_history-000000000028.csv\n",
      "reading /Users/ben/Documents/GitHub/CloudComputing/RedditPlaceData/2023_place_canvas_history-000000000029.csv\n",
      "writing /Users/ben/Documents/GitHub/CloudComputing/RedditPlaceData/2023_place_canvas_history-000000000029.csv\n",
      "reading /Users/ben/Documents/GitHub/CloudComputing/RedditPlaceData/2023_place_canvas_history-000000000030.csv\n",
      "writing /Users/ben/Documents/GitHub/CloudComputing/RedditPlaceData/2023_place_canvas_history-000000000030.csv\n",
      "reading /Users/ben/Documents/GitHub/CloudComputing/RedditPlaceData/2023_place_canvas_history-000000000031.csv\n",
      "writing /Users/ben/Documents/GitHub/CloudComputing/RedditPlaceData/2023_place_canvas_history-000000000031.csv\n",
      "reading /Users/ben/Documents/GitHub/CloudComputing/RedditPlaceData/2023_place_canvas_history-000000000032.csv\n",
      "writing /Users/ben/Documents/GitHub/CloudComputing/RedditPlaceData/2023_place_canvas_history-000000000032.csv\n",
      "reading /Users/ben/Documents/GitHub/CloudComputing/RedditPlaceData/2023_place_canvas_history-000000000033.csv\n",
      "writing /Users/ben/Documents/GitHub/CloudComputing/RedditPlaceData/2023_place_canvas_history-000000000033.csv\n",
      "reading /Users/ben/Documents/GitHub/CloudComputing/RedditPlaceData/2023_place_canvas_history-000000000035.csv\n",
      "writing /Users/ben/Documents/GitHub/CloudComputing/RedditPlaceData/2023_place_canvas_history-000000000035.csv\n",
      "reading /Users/ben/Documents/GitHub/CloudComputing/RedditPlaceData/2023_place_canvas_history-000000000036.csv\n",
      "writing /Users/ben/Documents/GitHub/CloudComputing/RedditPlaceData/2023_place_canvas_history-000000000036.csv\n",
      "reading /Users/ben/Documents/GitHub/CloudComputing/RedditPlaceData/2023_place_canvas_history-000000000037.csv\n",
      "writing /Users/ben/Documents/GitHub/CloudComputing/RedditPlaceData/2023_place_canvas_history-000000000037.csv\n",
      "reading /Users/ben/Documents/GitHub/CloudComputing/RedditPlaceData/2023_place_canvas_history-000000000038.csv\n",
      "writing /Users/ben/Documents/GitHub/CloudComputing/RedditPlaceData/2023_place_canvas_history-000000000038.csv\n",
      "reading /Users/ben/Documents/GitHub/CloudComputing/RedditPlaceData/2023_place_canvas_history-000000000039.csv\n",
      "writing /Users/ben/Documents/GitHub/CloudComputing/RedditPlaceData/2023_place_canvas_history-000000000039.csv\n",
      "reading /Users/ben/Documents/GitHub/CloudComputing/RedditPlaceData/2023_place_canvas_history-000000000040.csv\n",
      "writing /Users/ben/Documents/GitHub/CloudComputing/RedditPlaceData/2023_place_canvas_history-000000000040.csv\n",
      "reading /Users/ben/Documents/GitHub/CloudComputing/RedditPlaceData/2023_place_canvas_history-000000000041.csv\n",
      "writing /Users/ben/Documents/GitHub/CloudComputing/RedditPlaceData/2023_place_canvas_history-000000000041.csv\n",
      "reading /Users/ben/Documents/GitHub/CloudComputing/RedditPlaceData/2023_place_canvas_history-000000000042.csv\n",
      "writing /Users/ben/Documents/GitHub/CloudComputing/RedditPlaceData/2023_place_canvas_history-000000000042.csv\n",
      "reading /Users/ben/Documents/GitHub/CloudComputing/RedditPlaceData/2023_place_canvas_history-000000000043.csv\n",
      "writing /Users/ben/Documents/GitHub/CloudComputing/RedditPlaceData/2023_place_canvas_history-000000000043.csv\n",
      "reading /Users/ben/Documents/GitHub/CloudComputing/RedditPlaceData/2023_place_canvas_history-000000000044.csv\n",
      "writing /Users/ben/Documents/GitHub/CloudComputing/RedditPlaceData/2023_place_canvas_history-000000000044.csv\n",
      "reading /Users/ben/Documents/GitHub/CloudComputing/RedditPlaceData/2023_place_canvas_history-000000000045.csv\n",
      "writing /Users/ben/Documents/GitHub/CloudComputing/RedditPlaceData/2023_place_canvas_history-000000000045.csv\n",
      "reading /Users/ben/Documents/GitHub/CloudComputing/RedditPlaceData/2023_place_canvas_history-000000000046.csv\n",
      "writing /Users/ben/Documents/GitHub/CloudComputing/RedditPlaceData/2023_place_canvas_history-000000000046.csv\n",
      "reading /Users/ben/Documents/GitHub/CloudComputing/RedditPlaceData/2023_place_canvas_history-000000000047.csv\n",
      "writing /Users/ben/Documents/GitHub/CloudComputing/RedditPlaceData/2023_place_canvas_history-000000000047.csv\n",
      "reading /Users/ben/Documents/GitHub/CloudComputing/RedditPlaceData/2023_place_canvas_history-000000000048.csv\n",
      "writing /Users/ben/Documents/GitHub/CloudComputing/RedditPlaceData/2023_place_canvas_history-000000000048.csv\n",
      "reading /Users/ben/Documents/GitHub/CloudComputing/RedditPlaceData/2023_place_canvas_history-000000000049.csv\n",
      "writing /Users/ben/Documents/GitHub/CloudComputing/RedditPlaceData/2023_place_canvas_history-000000000049.csv\n",
      "Combined CSVs to combined_place_data.parquet\n"
     ]
    }
   ],
   "source": [
    "# Providing folder path\n",
    "folder_path = \"/Users/ben/Documents/GitHub/CloudComputing/RedditPlaceData/\"\n",
    "\n",
    "# Partquet file name\n",
    "parquet_file = \"combined_place_data.parquet\"\n",
    "\n",
    "# Getting csv_file names\n",
    "csv_files = glob.glob(os.path.join(folder_path, '**/*.csv'), recursive=True)\n",
    "\n",
    "# Create Schema\n",
    "schema = pa.schema([\n",
    "    pa.field(\"timestamp\", pa.string()),\n",
    "    pa.field(\"user\", pa.string()),\n",
    "    pa.field(\"coordinate\", pa.string()),\n",
    "    pa.field(\"pixel_color\", pa.string())\n",
    "])\n",
    "\n",
    "# Initializing writer\n",
    "writer = parquet.ParquetWriter(parquet_file, schema, compression='snappy')\n",
    "\n",
    "# Iterating through csv files\n",
    "for file in sorted(csv_files):\n",
    "    \n",
    "    print(\"reading\", file)\n",
    "    table = csv.read_csv(file)\n",
    "    # Casting table to schema\n",
    "    table = table.cast(schema)\n",
    "\n",
    "    print(\"writing\", file)\n",
    "    writer.write_table(table)\n",
    "    \n",
    "if writer:\n",
    "    writer.close()\n",
    "    \n",
    "print(f\"Combined CSVs to {parquet_file}\")"
   ]
  },
  {
   "cell_type": "code",
   "execution_count": 82,
   "id": "486159b3-bfa2-41d6-a5d9-c1069feafde4",
   "metadata": {
    "tags": []
   },
   "outputs": [],
   "source": [
    "test_file = pq.ParquetFile(\"/Users/ben/Documents/GitHub/CloudComputing/combined_place_data.parquet\")"
   ]
  },
  {
   "cell_type": "code",
   "execution_count": 83,
   "id": "46981d76-2fd3-46e5-81b4-417b24b229e4",
   "metadata": {
    "tags": []
   },
   "outputs": [
    {
     "name": "stdout",
     "output_type": "stream",
     "text": [
      "Number of entries (rows) in the Parquet file: 121,339,051\n"
     ]
    }
   ],
   "source": [
    "print(f\"Number of entries (rows) in the Parquet file: {test_file.metadata.num_rows:,d}\")"
   ]
  },
  {
   "cell_type": "code",
   "execution_count": 2,
   "id": "d1815d49-ebfb-4db2-bab2-f838bcc607bc",
   "metadata": {
    "tags": []
   },
   "outputs": [],
   "source": [
    "def parse_coordinate(coordinate):\n",
    "    if len(coordinate) < 20:\n",
    "        return coordinate\n",
    "    else:\n",
    "        coordinate = coordinate.replace(\" \", \"\").replace(\":\", \",\").split(\",\")\n",
    "        x = coordinate[1]\n",
    "        y = coordinate[3]\n",
    "        return f\"{x}\" + \",\" + f\"{y}\""
   ]
  },
  {
   "cell_type": "code",
   "execution_count": 3,
   "id": "10df837b-2883-42d4-a732-f890e96250dc",
   "metadata": {
    "tags": []
   },
   "outputs": [
    {
     "name": "stdout",
     "output_type": "stream",
     "text": [
      "Read parquet and cast datetime\n"
     ]
    }
   ],
   "source": [
    "print(\"Read parquet and cast datetime\")\n",
    "# Read the Parquet file\n",
    "df = pl.scan_parquet('combined_place_data.parquet')\n",
    "df = df.with_columns(pl.col(\"timestamp\").str.strptime(pl.Datetime, '%Y-%m-%d %H:%M:%S%.f %Z').cast(pl.Datetime, strict=False))\n",
    "df = df.with_columns(\n",
    "    pl.col('coordinate').map_elements(parse_coordinate, return_dtype=pl.Object)\n",
    ")\n",
    "df = df.with_columns([\n",
    "    pl.col('coordinate').map_elements(lambda x: int(x.split(\",\")[0]), return_dtype=pl.Int32).alias('x'),\n",
    "    pl.col('coordinate').map_elements(lambda x: int(x.split(\",\")[1]), return_dtype=pl.Int32).alias('y')\n",
    "])"
   ]
  },
  {
   "cell_type": "code",
   "execution_count": 86,
   "id": "9758b4ad-c654-4ea4-a88a-9cbf801c95dc",
   "metadata": {
    "tags": []
   },
   "outputs": [
    {
     "data": {
      "text/html": [
       "<div><style>\n",
       ".dataframe > thead > tr,\n",
       ".dataframe > tbody > tr {\n",
       "  text-align: right;\n",
       "  white-space: pre-wrap;\n",
       "}\n",
       "</style>\n",
       "<small>shape: (10, 6)</small><table border=\"1\" class=\"dataframe\"><thead><tr><th>timestamp</th><th>user</th><th>coordinate</th><th>pixel_color</th><th>x</th><th>y</th></tr><tr><td>datetime[μs]</td><td>str</td><td>object</td><td>str</td><td>i32</td><td>i32</td></tr></thead><tbody><tr><td>2023-07-20 13:00:26.088</td><td>&quot;no+8HEIDjbdx7/…</td><td>-199,-235</td><td>&quot;#FFFFFF&quot;</td><td>-199</td><td>-235</td></tr><tr><td>2023-07-20 13:00:43.658</td><td>&quot;qJ7O6cuUNfkDyn…</td><td>0,-298</td><td>&quot;#FF4500&quot;</td><td>0</td><td>-298</td></tr><tr><td>2023-07-20 13:00:43.705</td><td>&quot;uqi5XwkBePwcPK…</td><td>-42,-218</td><td>&quot;#FFFFFF&quot;</td><td>-42</td><td>-218</td></tr><tr><td>2023-07-20 13:01:02.487</td><td>&quot;rgSTj7FHZUHsLX…</td><td>-418,-232</td><td>&quot;#B44AC0&quot;</td><td>-418</td><td>-232</td></tr><tr><td>2023-07-20 13:01:40.445</td><td>&quot;2bmivBNj8NYvnp…</td><td>182,164</td><td>&quot;#FF4500&quot;</td><td>182</td><td>164</td></tr><tr><td>2023-07-20 13:01:51.457</td><td>&quot;iyPavVpo8ojDYs…</td><td>-113,-1</td><td>&quot;#FFFFFF&quot;</td><td>-113</td><td>-1</td></tr><tr><td>2023-07-20 13:01:52.149</td><td>&quot;a6Q+OsCSRDcPxh…</td><td>-64,-34</td><td>&quot;#3690EA&quot;</td><td>-64</td><td>-34</td></tr><tr><td>2023-07-20 13:01:57.333</td><td>&quot;AS0KN9rxoynWuN…</td><td>-267,-142</td><td>&quot;#FFFFFF&quot;</td><td>-267</td><td>-142</td></tr><tr><td>2023-07-20 13:02:14.260</td><td>&quot;aWwqNqt6Ydlvny…</td><td>-43,52</td><td>&quot;#00A368&quot;</td><td>-43</td><td>52</td></tr><tr><td>2023-07-20 13:03:42.173</td><td>&quot;vFCy3asEWbBER9…</td><td>-43,74</td><td>&quot;#000000&quot;</td><td>-43</td><td>74</td></tr></tbody></table></div>"
      ],
      "text/plain": [
       "shape: (10, 6)\n",
       "┌─────────────────────────┬───────────────────────────────┬────────────┬─────────────┬──────┬──────┐\n",
       "│ timestamp               ┆ user                          ┆ coordinate ┆ pixel_color ┆ x    ┆ y    │\n",
       "│ ---                     ┆ ---                           ┆ ---        ┆ ---         ┆ ---  ┆ ---  │\n",
       "│ datetime[μs]            ┆ str                           ┆ object     ┆ str         ┆ i32  ┆ i32  │\n",
       "╞═════════════════════════╪═══════════════════════════════╪════════════╪═════════════╪══════╪══════╡\n",
       "│ 2023-07-20 13:00:26.088 ┆ no+8HEIDjbdx7/LxH9Xr+h4lyoar0 ┆ -199,-235  ┆ #FFFFFF     ┆ -199 ┆ -235 │\n",
       "│                         ┆ MRT…                          ┆            ┆             ┆      ┆      │\n",
       "│ 2023-07-20 13:00:43.658 ┆ qJ7O6cuUNfkDyn+ZOEYR+UiVEmAu/ ┆ 0,-298     ┆ #FF4500     ┆ 0    ┆ -298 │\n",
       "│                         ┆ vYf…                          ┆            ┆             ┆      ┆      │\n",
       "│ 2023-07-20 13:00:43.705 ┆ uqi5XwkBePwcPKJgGOxHKzzzXuZKU ┆ -42,-218   ┆ #FFFFFF     ┆ -42  ┆ -218 │\n",
       "│                         ┆ 6iK…                          ┆            ┆             ┆      ┆      │\n",
       "│ 2023-07-20 13:01:02.487 ┆ rgSTj7FHZUHsLXZLLNj9+vxibHIow ┆ -418,-232  ┆ #B44AC0     ┆ -418 ┆ -232 │\n",
       "│                         ┆ b2+…                          ┆            ┆             ┆      ┆      │\n",
       "│ 2023-07-20 13:01:40.445 ┆ 2bmivBNj8NYvnp/15k0EqC+75T1Ox ┆ 182,164    ┆ #FF4500     ┆ 182  ┆ 164  │\n",
       "│                         ┆ TtC…                          ┆            ┆             ┆      ┆      │\n",
       "│ 2023-07-20 13:01:51.457 ┆ iyPavVpo8ojDYs4NBNrbOVyIgUkpX ┆ -113,-1    ┆ #FFFFFF     ┆ -113 ┆ -1   │\n",
       "│                         ┆ SWt…                          ┆            ┆             ┆      ┆      │\n",
       "│ 2023-07-20 13:01:52.149 ┆ a6Q+OsCSRDcPxhxYtOsWmY1eROZ5F ┆ -64,-34    ┆ #3690EA     ┆ -64  ┆ -34  │\n",
       "│                         ┆ GYO…                          ┆            ┆             ┆      ┆      │\n",
       "│ 2023-07-20 13:01:57.333 ┆ AS0KN9rxoynWuNZWvX3Aaqv9UwZFk ┆ -267,-142  ┆ #FFFFFF     ┆ -267 ┆ -142 │\n",
       "│                         ┆ Lhq…                          ┆            ┆             ┆      ┆      │\n",
       "│ 2023-07-20 13:02:14.260 ┆ aWwqNqt6YdlvnygRgoEovZgf0GgBe ┆ -43,52     ┆ #00A368     ┆ -43  ┆ 52   │\n",
       "│                         ┆ pj6…                          ┆            ┆             ┆      ┆      │\n",
       "│ 2023-07-20 13:03:42.173 ┆ vFCy3asEWbBER9NYcILtUCB+KYxRW ┆ -43,74     ┆ #000000     ┆ -43  ┆ 74   │\n",
       "│                         ┆ IGM…                          ┆            ┆             ┆      ┆      │\n",
       "└─────────────────────────┴───────────────────────────────┴────────────┴─────────────┴──────┴──────┘"
      ]
     },
     "execution_count": 86,
     "metadata": {},
     "output_type": "execute_result"
    }
   ],
   "source": [
    "df.head(10).collect(streaming=True)"
   ]
  },
  {
   "cell_type": "code",
   "execution_count": 4,
   "id": "4024ea19-411d-447e-8601-326417f51fe2",
   "metadata": {
    "tags": []
   },
   "outputs": [],
   "source": [
    "value_counts = df.select(\"user\").group_by(\"user\").agg(pl.col('user').count().alias('count')).sort('count', descending=True)\n",
    "value_counts = value_counts.with_columns(pl.col(\"count\").cast(int))"
   ]
  },
  {
   "cell_type": "code",
   "execution_count": 5,
   "id": "ec659cc3-f555-4a02-8fa1-c80518ce46d7",
   "metadata": {
    "tags": []
   },
   "outputs": [
    {
     "data": {
      "text/html": [
       "<div><style>\n",
       ".dataframe > thead > tr,\n",
       ".dataframe > tbody > tr {\n",
       "  text-align: right;\n",
       "  white-space: pre-wrap;\n",
       "}\n",
       "</style>\n",
       "<small>shape: (1, 1)</small><table border=\"1\" class=\"dataframe\"><thead><tr><th>count</th></tr><tr><td>f64</td></tr></thead><tbody><tr><td>158.0</td></tr></tbody></table></div>"
      ],
      "text/plain": [
       "shape: (1, 1)\n",
       "┌───────┐\n",
       "│ count │\n",
       "│ ---   │\n",
       "│ f64   │\n",
       "╞═══════╡\n",
       "│ 158.0 │\n",
       "└───────┘"
      ]
     },
     "execution_count": 5,
     "metadata": {},
     "output_type": "execute_result"
    }
   ],
   "source": [
    "value_counts.select(\"count\").quantile(quantile=.95).collect(streaming = True)"
   ]
  },
  {
   "cell_type": "code",
   "execution_count": 16,
   "id": "0b10fe0b-9e4b-4325-99f4-1902e3dc210c",
   "metadata": {
    "tags": []
   },
   "outputs": [],
   "source": [
    "pbs_idx = value_counts.filter(pl.col(\"count\") >= 158)\n",
    "\n",
    "pixels_placed = df.filter(pl.col('user').is_in(pbs_idx.select(\"user\").collect(streaming=True))).collect(streaming=True)"
   ]
  },
  {
   "cell_type": "code",
   "execution_count": 17,
   "id": "c3574232-e1af-446c-9034-1e2e1ac4d05e",
   "metadata": {
    "tags": []
   },
   "outputs": [
    {
     "data": {
      "text/html": [
       "<div><style>\n",
       ".dataframe > thead > tr,\n",
       ".dataframe > tbody > tr {\n",
       "  text-align: right;\n",
       "  white-space: pre-wrap;\n",
       "}\n",
       "</style>\n",
       "<small>shape: (22_305_872, 6)</small><table border=\"1\" class=\"dataframe\"><thead><tr><th>timestamp</th><th>user</th><th>coordinate</th><th>pixel_color</th><th>x</th><th>y</th></tr><tr><td>datetime[μs]</td><td>str</td><td>object</td><td>str</td><td>i32</td><td>i32</td></tr></thead><tbody><tr><td>2023-07-20 13:01:52.149</td><td>&quot;a6Q+OsCSRDcPxh…</td><td>-64,-34</td><td>&quot;#3690EA&quot;</td><td>-64</td><td>-34</td></tr><tr><td>2023-07-20 13:03:42.173</td><td>&quot;vFCy3asEWbBER9…</td><td>-43,74</td><td>&quot;#000000&quot;</td><td>-43</td><td>74</td></tr><tr><td>2023-07-20 13:04:43.607</td><td>&quot;jijE+llUCOLjUX…</td><td>15,126</td><td>&quot;#FFD635&quot;</td><td>15</td><td>126</td></tr><tr><td>2023-07-20 13:04:44.439</td><td>&quot;L5EYlx1xHtzNNd…</td><td>78,4</td><td>&quot;#000000&quot;</td><td>78</td><td>4</td></tr><tr><td>2023-07-20 13:04:45.288</td><td>&quot;8fwj/jPEvokM9V…</td><td>-36,-211</td><td>&quot;#FF4500&quot;</td><td>-36</td><td>-211</td></tr><tr><td>2023-07-20 13:04:45.616</td><td>&quot;veU+pBrJqKPdkY…</td><td>-161,-30</td><td>&quot;#000000&quot;</td><td>-161</td><td>-30</td></tr><tr><td>2023-07-20 13:04:45.965</td><td>&quot;Yd9kMTAts5VzxD…</td><td>468,-405</td><td>&quot;#000000&quot;</td><td>468</td><td>-405</td></tr><tr><td>2023-07-20 13:04:46.123</td><td>&quot;Eo/c2yPDrI95KW…</td><td>10,261</td><td>&quot;#3690EA&quot;</td><td>10</td><td>261</td></tr><tr><td>2023-07-20 13:04:47.278</td><td>&quot;FFt9e2W+8SAGLc…</td><td>-14,-299</td><td>&quot;#FFA800&quot;</td><td>-14</td><td>-299</td></tr><tr><td>2023-07-20 13:04:47.316</td><td>&quot;43pi/xvQXGFqD/…</td><td>-400,-140</td><td>&quot;#000000&quot;</td><td>-400</td><td>-140</td></tr><tr><td>2023-07-20 13:04:47.611</td><td>&quot;ECoZFBGYf2Jbak…</td><td>-35,-39</td><td>&quot;#3690EA&quot;</td><td>-35</td><td>-39</td></tr><tr><td>2023-07-20 13:04:47.850</td><td>&quot;j+1LdmINW0oV3j…</td><td>7,58</td><td>&quot;#3690EA&quot;</td><td>7</td><td>58</td></tr><tr><td>&hellip;</td><td>&hellip;</td><td>&hellip;</td><td>&hellip;</td><td>&hellip;</td><td>&hellip;</td></tr><tr><td>2023-07-25 18:42:53.995</td><td>&quot;c8x1ngP+YKGu88…</td><td>-1435,836</td><td>&quot;#000000&quot;</td><td>-1435</td><td>836</td></tr><tr><td>2023-07-25 18:42:53.996</td><td>&quot;/oKTUdMPopljkv…</td><td>35,904</td><td>&quot;#D4D7D9&quot;</td><td>35</td><td>904</td></tr><tr><td>2023-07-25 18:42:53.997</td><td>&quot;VdN6kwL+BGhYXp…</td><td>-662,824</td><td>&quot;#7EED56&quot;</td><td>-662</td><td>824</td></tr><tr><td>2023-07-25 18:42:54.012</td><td>&quot;CbTS2sdxziEfl1…</td><td>763,-449</td><td>&quot;#000000&quot;</td><td>763</td><td>-449</td></tr><tr><td>2023-07-25 18:42:54.015</td><td>&quot;WORNPak/eyUGoB…</td><td>-297,-196</td><td>&quot;#FF99AA&quot;</td><td>-297</td><td>-196</td></tr><tr><td>2023-07-25 18:42:54.031</td><td>&quot;4ukQzpYfMbH1r8…</td><td>100,-185</td><td>&quot;#2450A4&quot;</td><td>100</td><td>-185</td></tr><tr><td>2023-07-25 18:42:54.053</td><td>&quot;+FWyEH4ETATlHT…</td><td>-1455,64</td><td>&quot;#2450A4&quot;</td><td>-1455</td><td>64</td></tr><tr><td>2023-07-25 18:42:54.058</td><td>&quot;8XDdmepuVB83ek…</td><td>-232,724</td><td>&quot;#FF4500&quot;</td><td>-232</td><td>724</td></tr><tr><td>2023-07-25 18:42:54.063</td><td>&quot;lTWivYUlDY6aT/…</td><td>-118,-158</td><td>&quot;#493AC1&quot;</td><td>-118</td><td>-158</td></tr><tr><td>2023-07-25 18:42:54.085</td><td>&quot;zLI1qAZRGBwMKc…</td><td>1169,706</td><td>&quot;#FF4500&quot;</td><td>1169</td><td>706</td></tr><tr><td>2023-07-25 18:42:54.098</td><td>&quot;mXd6J73yPQ7tpW…</td><td>-1290,-465</td><td>&quot;#2450A4&quot;</td><td>-1290</td><td>-465</td></tr><tr><td>2023-07-25 18:42:54.098</td><td>&quot;Ayyn6JLFHa7d3+…</td><td>-274,834</td><td>&quot;#898D90&quot;</td><td>-274</td><td>834</td></tr></tbody></table></div>"
      ],
      "text/plain": [
       "shape: (22_305_872, 6)\n",
       "┌─────────────────────────┬──────────────────────────────┬────────────┬─────────────┬───────┬──────┐\n",
       "│ timestamp               ┆ user                         ┆ coordinate ┆ pixel_color ┆ x     ┆ y    │\n",
       "│ ---                     ┆ ---                          ┆ ---        ┆ ---         ┆ ---   ┆ ---  │\n",
       "│ datetime[μs]            ┆ str                          ┆ object     ┆ str         ┆ i32   ┆ i32  │\n",
       "╞═════════════════════════╪══════════════════════════════╪════════════╪═════════════╪═══════╪══════╡\n",
       "│ 2023-07-20 13:01:52.149 ┆ a6Q+OsCSRDcPxhxYtOsWmY1eROZ5 ┆ -64,-34    ┆ #3690EA     ┆ -64   ┆ -34  │\n",
       "│                         ┆ FGYO…                        ┆            ┆             ┆       ┆      │\n",
       "│ 2023-07-20 13:03:42.173 ┆ vFCy3asEWbBER9NYcILtUCB+KYxR ┆ -43,74     ┆ #000000     ┆ -43   ┆ 74   │\n",
       "│                         ┆ WIGM…                        ┆            ┆             ┆       ┆      │\n",
       "│ 2023-07-20 13:04:43.607 ┆ jijE+llUCOLjUX4E37GNGyhMUzo2 ┆ 15,126     ┆ #FFD635     ┆ 15    ┆ 126  │\n",
       "│                         ┆ 7uvO…                        ┆            ┆             ┆       ┆      │\n",
       "│ 2023-07-20 13:04:44.439 ┆ L5EYlx1xHtzNNdKicc0rDSA7+C1T ┆ 78,4       ┆ #000000     ┆ 78    ┆ 4    │\n",
       "│                         ┆ j6wP…                        ┆            ┆             ┆       ┆      │\n",
       "│ 2023-07-20 13:04:45.288 ┆ 8fwj/jPEvokM9VJZEDPCaxJLpcih ┆ -36,-211   ┆ #FF4500     ┆ -36   ┆ -211 │\n",
       "│                         ┆ 9qOV…                        ┆            ┆             ┆       ┆      │\n",
       "│ …                       ┆ …                            ┆ …          ┆ …           ┆ …     ┆ …    │\n",
       "│ 2023-07-25 18:42:54.058 ┆ 8XDdmepuVB83ek4jbAj7Q++sqRtd ┆ -232,724   ┆ #FF4500     ┆ -232  ┆ 724  │\n",
       "│                         ┆ U+Hu…                        ┆            ┆             ┆       ┆      │\n",
       "│ 2023-07-25 18:42:54.063 ┆ lTWivYUlDY6aT/7xLEd/CoMpTOAS ┆ -118,-158  ┆ #493AC1     ┆ -118  ┆ -158 │\n",
       "│                         ┆ zTQq…                        ┆            ┆             ┆       ┆      │\n",
       "│ 2023-07-25 18:42:54.085 ┆ zLI1qAZRGBwMKci281dCSa2mee4W ┆ 1169,706   ┆ #FF4500     ┆ 1169  ┆ 706  │\n",
       "│                         ┆ 5EzH…                        ┆            ┆             ┆       ┆      │\n",
       "│ 2023-07-25 18:42:54.098 ┆ mXd6J73yPQ7tpW+07W8iKLDYt2ge ┆ -1290,-465 ┆ #2450A4     ┆ -1290 ┆ -465 │\n",
       "│                         ┆ ZRTp…                        ┆            ┆             ┆       ┆      │\n",
       "│ 2023-07-25 18:42:54.098 ┆ Ayyn6JLFHa7d3+T4OKNukbXb0Coe ┆ -274,834   ┆ #898D90     ┆ -274  ┆ 834  │\n",
       "│                         ┆ aH/k…                        ┆            ┆             ┆       ┆      │\n",
       "└─────────────────────────┴──────────────────────────────┴────────────┴─────────────┴───────┴──────┘"
      ]
     },
     "execution_count": 17,
     "metadata": {},
     "output_type": "execute_result"
    }
   ],
   "source": [
    "pixels_placed"
   ]
  },
  {
   "cell_type": "code",
   "execution_count": 18,
   "id": "7ab1566d-241b-4829-95d1-34629c0cd026",
   "metadata": {
    "tags": []
   },
   "outputs": [
    {
     "data": {
      "text/plain": [
       "0.18378254829106913"
      ]
     },
     "execution_count": 18,
     "metadata": {},
     "output_type": "execute_result"
    }
   ],
   "source": [
    "22300000 / 121339051"
   ]
  },
  {
   "cell_type": "code",
   "execution_count": 5,
   "id": "3311e4ec-f8e1-4060-acc8-9095af9815c7",
   "metadata": {
    "tags": []
   },
   "outputs": [],
   "source": [
    "# Run this with value from box above\n",
    "pbs_idx = value_counts.filter(pl.col(\"count\") >= 60)\n",
    "\n",
    "pixels_placed = df.filter(pl.col('user').is_in(pbs_idx.select(\"user\").collect(streaming=True))).collect(streaming=True)\n",
    "\n",
    "latest_coords = pixels_placed.group_by([\"x\", \"y\"]).agg(\n",
    "    pl.col('timestamp').arg_max().alias('idxmax'),\n",
    "    pl.col(\"pixel_color\").last().alias(\"latest_color\")\n",
    ")\n",
    "\n",
    "latest_coords.write_parquet(\"/Users/ben/Documents/GitHub/CloudComputing/latest_coords99.parquet\")\n",
    "# Go to r/place analysis"
   ]
  },
  {
   "cell_type": "code",
   "execution_count": 78,
   "id": "d7fb2355-f3de-4801-8427-d6517f7e4c47",
   "metadata": {
    "collapsed": true,
    "jupyter": {
     "outputs_hidden": true
    },
    "tags": []
   },
   "outputs": [
    {
     "data": {
      "text/html": [
       "<div><style>\n",
       ".dataframe > thead > tr,\n",
       ".dataframe > tbody > tr {\n",
       "  text-align: right;\n",
       "  white-space: pre-wrap;\n",
       "}\n",
       "</style>\n",
       "<small>shape: (74_477_017, 6)</small><table border=\"1\" class=\"dataframe\"><thead><tr><th>timestamp</th><th>user</th><th>coordinate</th><th>pixel_color</th><th>x</th><th>y</th></tr><tr><td>datetime[μs]</td><td>str</td><td>object</td><td>str</td><td>i32</td><td>i32</td></tr></thead><tbody><tr><td>2023-07-20 13:00:43.705</td><td>&quot;uqi5XwkBePwcPK…</td><td>-42,-218</td><td>&quot;#FFFFFF&quot;</td><td>-42</td><td>-218</td></tr><tr><td>2023-07-20 13:01:40.445</td><td>&quot;2bmivBNj8NYvnp…</td><td>182,164</td><td>&quot;#FF4500&quot;</td><td>182</td><td>164</td></tr><tr><td>2023-07-20 13:01:52.149</td><td>&quot;a6Q+OsCSRDcPxh…</td><td>-64,-34</td><td>&quot;#3690EA&quot;</td><td>-64</td><td>-34</td></tr><tr><td>2023-07-20 13:03:42.173</td><td>&quot;vFCy3asEWbBER9…</td><td>-43,74</td><td>&quot;#000000&quot;</td><td>-43</td><td>74</td></tr><tr><td>2023-07-20 13:04:03.685</td><td>&quot;rkTj/gktE+fk1u…</td><td>-279,242</td><td>&quot;#000000&quot;</td><td>-279</td><td>242</td></tr><tr><td>2023-07-20 13:04:17.971</td><td>&quot;sxYEVPfaohJYIY…</td><td>60,-65</td><td>&quot;#000000&quot;</td><td>60</td><td>-65</td></tr><tr><td>2023-07-20 13:04:38.197</td><td>&quot;ywG7MbcHONF6gs…</td><td>-32,263</td><td>&quot;#B44AC0&quot;</td><td>-32</td><td>263</td></tr><tr><td>2023-07-20 13:04:39.757</td><td>&quot;FdP9nI9ZB1x8f0…</td><td>-62,280</td><td>&quot;#000000&quot;</td><td>-62</td><td>280</td></tr><tr><td>2023-07-20 13:04:41.115</td><td>&quot;Sp4flue6oel2cw…</td><td>-143,266</td><td>&quot;#000000&quot;</td><td>-143</td><td>266</td></tr><tr><td>2023-07-20 13:04:41.503</td><td>&quot;jFyStllXtkR7+s…</td><td>0,-100</td><td>&quot;#00A368&quot;</td><td>0</td><td>-100</td></tr><tr><td>2023-07-20 13:04:41.721</td><td>&quot;p1mbVdUg3S5DHQ…</td><td>-227,-491</td><td>&quot;#000000&quot;</td><td>-227</td><td>-491</td></tr><tr><td>2023-07-20 13:04:42.114</td><td>&quot;gZXBp2Ss2n29Ua…</td><td>-464,68</td><td>&quot;#3690EA&quot;</td><td>-464</td><td>68</td></tr><tr><td>&hellip;</td><td>&hellip;</td><td>&hellip;</td><td>&hellip;</td><td>&hellip;</td><td>&hellip;</td></tr><tr><td>2023-07-25 20:18:41.981</td><td>&quot;nfgP2BtVxb5L/b…</td><td>1056,290</td><td>&quot;#000000&quot;</td><td>1056</td><td>290</td></tr><tr><td>2023-07-25 20:18:41.981</td><td>&quot;hyp2JfXFyXwBkN…</td><td>-420,-304</td><td>&quot;#898D90&quot;</td><td>-420</td><td>-304</td></tr><tr><td>2023-07-25 20:18:41.981</td><td>&quot;D10m+HDlNZBxRD…</td><td>-136,-115</td><td>&quot;#000000&quot;</td><td>-136</td><td>-115</td></tr><tr><td>2023-07-25 20:18:41.986</td><td>&quot;fHTF8M8qjCI4Zd…</td><td>-224,-121</td><td>&quot;#000000&quot;</td><td>-224</td><td>-121</td></tr><tr><td>2023-07-25 20:18:41.987</td><td>&quot;BAdttAf++mQili…</td><td>334,905</td><td>&quot;#D4D7D9&quot;</td><td>334</td><td>905</td></tr><tr><td>2023-07-25 20:18:41.992</td><td>&quot;Nc7RXvQtd04F4A…</td><td>-619,301</td><td>&quot;#000000&quot;</td><td>-619</td><td>301</td></tr><tr><td>2023-07-25 20:18:41.992</td><td>&quot;w81qrWsXQ4w7SL…</td><td>-793,774</td><td>&quot;#000000&quot;</td><td>-793</td><td>774</td></tr><tr><td>2023-07-25 20:18:41.992</td><td>&quot;lwvQ82UXVJQQOE…</td><td>-527,-363</td><td>&quot;#FFFFFF&quot;</td><td>-527</td><td>-363</td></tr><tr><td>2023-07-25 20:18:41.993</td><td>&quot;tqFlRozn6a/Ie1…</td><td>1496,-118</td><td>&quot;#515252&quot;</td><td>1496</td><td>-118</td></tr><tr><td>2023-07-25 20:18:41.997</td><td>&quot;CrEyXocNa+gbUN…</td><td>-618,-282</td><td>&quot;#000000&quot;</td><td>-618</td><td>-282</td></tr><tr><td>2023-07-25 20:18:41.997</td><td>&quot;zXFrVRe25HfBLM…</td><td>-361,-167</td><td>&quot;#FFFFFF&quot;</td><td>-361</td><td>-167</td></tr><tr><td>2023-07-25 20:18:41.997</td><td>&quot;tJXjzleXf0Plt3…</td><td>1482,994</td><td>&quot;#515252&quot;</td><td>1482</td><td>994</td></tr></tbody></table></div>"
      ],
      "text/plain": [
       "shape: (74_477_017, 6)\n",
       "┌─────────────────────────┬───────────────────────────────┬────────────┬─────────────┬──────┬──────┐\n",
       "│ timestamp               ┆ user                          ┆ coordinate ┆ pixel_color ┆ x    ┆ y    │\n",
       "│ ---                     ┆ ---                           ┆ ---        ┆ ---         ┆ ---  ┆ ---  │\n",
       "│ datetime[μs]            ┆ str                           ┆ object     ┆ str         ┆ i32  ┆ i32  │\n",
       "╞═════════════════════════╪═══════════════════════════════╪════════════╪═════════════╪══════╪══════╡\n",
       "│ 2023-07-20 13:00:43.705 ┆ uqi5XwkBePwcPKJgGOxHKzzzXuZKU ┆ -42,-218   ┆ #FFFFFF     ┆ -42  ┆ -218 │\n",
       "│                         ┆ 6iK…                          ┆            ┆             ┆      ┆      │\n",
       "│ 2023-07-20 13:01:40.445 ┆ 2bmivBNj8NYvnp/15k0EqC+75T1Ox ┆ 182,164    ┆ #FF4500     ┆ 182  ┆ 164  │\n",
       "│                         ┆ TtC…                          ┆            ┆             ┆      ┆      │\n",
       "│ 2023-07-20 13:01:52.149 ┆ a6Q+OsCSRDcPxhxYtOsWmY1eROZ5F ┆ -64,-34    ┆ #3690EA     ┆ -64  ┆ -34  │\n",
       "│                         ┆ GYO…                          ┆            ┆             ┆      ┆      │\n",
       "│ 2023-07-20 13:03:42.173 ┆ vFCy3asEWbBER9NYcILtUCB+KYxRW ┆ -43,74     ┆ #000000     ┆ -43  ┆ 74   │\n",
       "│                         ┆ IGM…                          ┆            ┆             ┆      ┆      │\n",
       "│ 2023-07-20 13:04:03.685 ┆ rkTj/gktE+fk1uA6g8xGWV7L3Tykc ┆ -279,242   ┆ #000000     ┆ -279 ┆ 242  │\n",
       "│                         ┆ 14W…                          ┆            ┆             ┆      ┆      │\n",
       "│ …                       ┆ …                             ┆ …          ┆ …           ┆ …    ┆ …    │\n",
       "│ 2023-07-25 20:18:41.992 ┆ lwvQ82UXVJQQOEtCGBATzCSmKYrRh ┆ -527,-363  ┆ #FFFFFF     ┆ -527 ┆ -363 │\n",
       "│                         ┆ B4K…                          ┆            ┆             ┆      ┆      │\n",
       "│ 2023-07-25 20:18:41.993 ┆ tqFlRozn6a/Ie1Qgu3GPOYdgaaIEj ┆ 1496,-118  ┆ #515252     ┆ 1496 ┆ -118 │\n",
       "│                         ┆ Ved…                          ┆            ┆             ┆      ┆      │\n",
       "│ 2023-07-25 20:18:41.997 ┆ CrEyXocNa+gbUN8r+t6GFWaFZ9tdI ┆ -618,-282  ┆ #000000     ┆ -618 ┆ -282 │\n",
       "│                         ┆ u0r…                          ┆            ┆             ┆      ┆      │\n",
       "│ 2023-07-25 20:18:41.997 ┆ zXFrVRe25HfBLMHqNIiAMdczrvzmi ┆ -361,-167  ┆ #FFFFFF     ┆ -361 ┆ -167 │\n",
       "│                         ┆ qxY…                          ┆            ┆             ┆      ┆      │\n",
       "│ 2023-07-25 20:18:41.997 ┆ tJXjzleXf0Plt3U+N2+OdnWAfAt06 ┆ 1482,994   ┆ #515252     ┆ 1482 ┆ 994  │\n",
       "│                         ┆ ga2…                          ┆            ┆             ┆      ┆      │\n",
       "└─────────────────────────┴───────────────────────────────┴────────────┴─────────────┴──────┴──────┘"
      ]
     },
     "execution_count": 78,
     "metadata": {},
     "output_type": "execute_result"
    }
   ],
   "source": [
    "pixels_placed"
   ]
  },
  {
   "cell_type": "code",
   "execution_count": 60,
   "id": "f4991218-4072-4e8f-98c9-05c5ba821c3d",
   "metadata": {
    "tags": []
   },
   "outputs": [],
   "source": [
    "pixels_placed.write_parquet(\"/Users/ben/Documents/GitHub/CloudComputing/pixels_placed.parquet\")"
   ]
  },
  {
   "cell_type": "code",
   "execution_count": 54,
   "id": "1396f446-eeca-4c4c-a6f0-88724de9efa7",
   "metadata": {
    "tags": []
   },
   "outputs": [
    {
     "data": {
      "text/html": [
       "<div><style>\n",
       ".dataframe > thead > tr,\n",
       ".dataframe > tbody > tr {\n",
       "  text-align: right;\n",
       "  white-space: pre-wrap;\n",
       "}\n",
       "</style>\n",
       "<small>shape: (1, 1)</small><table border=\"1\" class=\"dataframe\"><thead><tr><th>y</th></tr><tr><td>i32</td></tr></thead><tbody><tr><td>999</td></tr></tbody></table></div>"
      ],
      "text/plain": [
       "shape: (1, 1)\n",
       "┌─────┐\n",
       "│ y   │\n",
       "│ --- │\n",
       "│ i32 │\n",
       "╞═════╡\n",
       "│ 999 │\n",
       "└─────┘"
      ]
     },
     "execution_count": 54,
     "metadata": {},
     "output_type": "execute_result"
    }
   ],
   "source": [
    "latest_coords.select(\"y\").max()"
   ]
  },
  {
   "cell_type": "code",
   "execution_count": 23,
   "id": "0227fb51-df9f-4285-86fb-ac786c98ea0e",
   "metadata": {
    "collapsed": true,
    "jupyter": {
     "outputs_hidden": true
    },
    "tags": []
   },
   "outputs": [
    {
     "data": {
      "text/html": [
       "<div><style>\n",
       ".dataframe > thead > tr,\n",
       ".dataframe > tbody > tr {\n",
       "  text-align: right;\n",
       "  white-space: pre-wrap;\n",
       "}\n",
       "</style>\n",
       "<small>shape: (26, 6)</small><table border=\"1\" class=\"dataframe\"><thead><tr><th>timestamp</th><th>user</th><th>coordinate</th><th>pixel_color</th><th>x</th><th>y</th></tr><tr><td>datetime[μs]</td><td>str</td><td>object</td><td>str</td><td>i32</td><td>i32</td></tr></thead><tbody><tr><td>2023-07-20 13:04:48.455</td><td>&quot;rQeyBHwAAz03d1…</td><td>-3,-109</td><td>&quot;#000000&quot;</td><td>-3</td><td>-109</td></tr><tr><td>2023-07-20 13:56:46.903</td><td>&quot;gXs4E8qMxao7Yu…</td><td>-3,-109</td><td>&quot;#FF4500&quot;</td><td>-3</td><td>-109</td></tr><tr><td>2023-07-20 15:52:03.044</td><td>&quot;DuiAOwMqY59slD…</td><td>-3,-109</td><td>&quot;#FFD635&quot;</td><td>-3</td><td>-109</td></tr><tr><td>2023-07-21 01:15:14.710</td><td>&quot;FJq7GEYa7Yb2c+…</td><td>-3,-109</td><td>&quot;#FFD635&quot;</td><td>-3</td><td>-109</td></tr><tr><td>2023-07-21 01:32:21.497</td><td>&quot;upwxfUb3yvelhr…</td><td>-3,-109</td><td>&quot;#FFD635&quot;</td><td>-3</td><td>-109</td></tr><tr><td>2023-07-21 01:32:34.191</td><td>&quot;WGCMlbXAiZQMKi…</td><td>-3,-109</td><td>&quot;#FFD635&quot;</td><td>-3</td><td>-109</td></tr><tr><td>2023-07-21 02:38:32.458</td><td>&quot;wpigWtzZP99uN9…</td><td>-3,-109</td><td>&quot;#FFFFFF&quot;</td><td>-3</td><td>-109</td></tr><tr><td>2023-07-21 03:35:35.674</td><td>&quot;Zz19OTdL9Q7Lvy…</td><td>-3,-109</td><td>&quot;#00A368&quot;</td><td>-3</td><td>-109</td></tr><tr><td>2023-07-21 04:00:59.471</td><td>&quot;nCheKBJ53dRMRo…</td><td>-3,-109</td><td>&quot;#FFFFFF&quot;</td><td>-3</td><td>-109</td></tr><tr><td>2023-07-21 04:01:54.511</td><td>&quot;VtxnG4EI3lp26u…</td><td>-3,-109</td><td>&quot;#3690EA&quot;</td><td>-3</td><td>-109</td></tr><tr><td>2023-07-21 04:12:29.734</td><td>&quot;u3qEyfVNymVY+a…</td><td>-3,-109</td><td>&quot;#FFD635&quot;</td><td>-3</td><td>-109</td></tr><tr><td>2023-07-21 04:38:13.938</td><td>&quot;ASYUH/bn4wEztD…</td><td>-3,-109</td><td>&quot;#FFD635&quot;</td><td>-3</td><td>-109</td></tr><tr><td>&hellip;</td><td>&hellip;</td><td>&hellip;</td><td>&hellip;</td><td>&hellip;</td><td>&hellip;</td></tr><tr><td>2023-07-21 15:56:18.811</td><td>&quot;q9RdXMhgqbLJUZ…</td><td>-3,-109</td><td>&quot;#FFD635&quot;</td><td>-3</td><td>-109</td></tr><tr><td>2023-07-22 05:00:46.584</td><td>&quot;omRezYOZkg/rah…</td><td>-3,-109</td><td>&quot;#FFA800&quot;</td><td>-3</td><td>-109</td></tr><tr><td>2023-07-22 08:56:17.757</td><td>&quot;u4rqxfP20441a/…</td><td>-3,-109</td><td>&quot;#FFD635&quot;</td><td>-3</td><td>-109</td></tr><tr><td>2023-07-22 16:22:16.957</td><td>&quot;ScrSVEnGc8BJIc…</td><td>-3,-109</td><td>&quot;#FFA800&quot;</td><td>-3</td><td>-109</td></tr><tr><td>2023-07-22 16:31:23.268</td><td>&quot;OcgRC0CkXMh8B6…</td><td>-3,-109</td><td>&quot;#FFD635&quot;</td><td>-3</td><td>-109</td></tr><tr><td>2023-07-23 19:47:28.794</td><td>&quot;nXV7fKH4bSeHRL…</td><td>-3,-109</td><td>&quot;#FFA800&quot;</td><td>-3</td><td>-109</td></tr><tr><td>2023-07-23 22:33:55.856</td><td>&quot;NmANjXNZPtyGKD…</td><td>-3,-109</td><td>&quot;#FFD635&quot;</td><td>-3</td><td>-109</td></tr><tr><td>2023-07-23 22:45:36.247</td><td>&quot;10vCSaCz5BUheD…</td><td>-3,-109</td><td>&quot;#FFA800&quot;</td><td>-3</td><td>-109</td></tr><tr><td>2023-07-23 23:05:16.687</td><td>&quot;wNNPA1EHirzle9…</td><td>-3,-109</td><td>&quot;#FFD635&quot;</td><td>-3</td><td>-109</td></tr><tr><td>2023-07-25 18:31:08.892</td><td>&quot;4lyyo7Ms1XNwaW…</td><td>-3,-109</td><td>&quot;#FFD635&quot;</td><td>-3</td><td>-109</td></tr><tr><td>2023-07-25 19:29:46.381</td><td>&quot;jMASGCdNV88sPV…</td><td>-3,-109</td><td>&quot;#FFD635&quot;</td><td>-3</td><td>-109</td></tr><tr><td>2023-07-25 20:50:56.203</td><td>&quot;OC/PP4y2A+6rOP…</td><td>-3,-109</td><td>&quot;#FFFFFF&quot;</td><td>-3</td><td>-109</td></tr></tbody></table></div>"
      ],
      "text/plain": [
       "shape: (26, 6)\n",
       "┌─────────────────────────┬────────────────────────────────┬────────────┬─────────────┬─────┬──────┐\n",
       "│ timestamp               ┆ user                           ┆ coordinate ┆ pixel_color ┆ x   ┆ y    │\n",
       "│ ---                     ┆ ---                            ┆ ---        ┆ ---         ┆ --- ┆ ---  │\n",
       "│ datetime[μs]            ┆ str                            ┆ object     ┆ str         ┆ i32 ┆ i32  │\n",
       "╞═════════════════════════╪════════════════════════════════╪════════════╪═════════════╪═════╪══════╡\n",
       "│ 2023-07-20 13:04:48.455 ┆ rQeyBHwAAz03d1Fs+afl9f2iehxJ/V ┆ -3,-109    ┆ #000000     ┆ -3  ┆ -109 │\n",
       "│                         ┆ JQ…                            ┆            ┆             ┆     ┆      │\n",
       "│ 2023-07-20 13:56:46.903 ┆ gXs4E8qMxao7Yune1wLIK/0TfJapAe ┆ -3,-109    ┆ #FF4500     ┆ -3  ┆ -109 │\n",
       "│                         ┆ FJ…                            ┆            ┆             ┆     ┆      │\n",
       "│ 2023-07-20 15:52:03.044 ┆ DuiAOwMqY59slDBQnho/xpEwKNSbbL ┆ -3,-109    ┆ #FFD635     ┆ -3  ┆ -109 │\n",
       "│                         ┆ PJ…                            ┆            ┆             ┆     ┆      │\n",
       "│ 2023-07-21 01:15:14.710 ┆ FJq7GEYa7Yb2c+es5bTv03aTEVvOZs ┆ -3,-109    ┆ #FFD635     ┆ -3  ┆ -109 │\n",
       "│                         ┆ Jn…                            ┆            ┆             ┆     ┆      │\n",
       "│ 2023-07-21 01:32:21.497 ┆ upwxfUb3yvelhrejy3iBB/7fEAYCgH ┆ -3,-109    ┆ #FFD635     ┆ -3  ┆ -109 │\n",
       "│                         ┆ WA…                            ┆            ┆             ┆     ┆      │\n",
       "│ …                       ┆ …                              ┆ …          ┆ …           ┆ …   ┆ …    │\n",
       "│ 2023-07-23 22:45:36.247 ┆ 10vCSaCz5BUheD3z7brvZ18heg8nEE ┆ -3,-109    ┆ #FFA800     ┆ -3  ┆ -109 │\n",
       "│                         ┆ lO…                            ┆            ┆             ┆     ┆      │\n",
       "│ 2023-07-23 23:05:16.687 ┆ wNNPA1EHirzle9MPrvDJtErhTrJMxn ┆ -3,-109    ┆ #FFD635     ┆ -3  ┆ -109 │\n",
       "│                         ┆ 2C…                            ┆            ┆             ┆     ┆      │\n",
       "│ 2023-07-25 18:31:08.892 ┆ 4lyyo7Ms1XNwaW2s/RWTNt8NKLij75 ┆ -3,-109    ┆ #FFD635     ┆ -3  ┆ -109 │\n",
       "│                         ┆ vX…                            ┆            ┆             ┆     ┆      │\n",
       "│ 2023-07-25 19:29:46.381 ┆ jMASGCdNV88sPVKCxZqBJG+C1ZR5lR ┆ -3,-109    ┆ #FFD635     ┆ -3  ┆ -109 │\n",
       "│                         ┆ JB…                            ┆            ┆             ┆     ┆      │\n",
       "│ 2023-07-25 20:50:56.203 ┆ OC/PP4y2A+6rOPR8Tx4qZ6vwBa1svZ ┆ -3,-109    ┆ #FFFFFF     ┆ -3  ┆ -109 │\n",
       "│                         ┆ lC…                            ┆            ┆             ┆     ┆      │\n",
       "└─────────────────────────┴────────────────────────────────┴────────────┴─────────────┴─────┴──────┘"
      ]
     },
     "execution_count": 23,
     "metadata": {},
     "output_type": "execute_result"
    }
   ],
   "source": [
    "pixels_placed.with_columns([\"x\", \"y\"]).filter((pl.col(\"x\") == -3) & (pl.col(\"y\") == -109))"
   ]
  },
  {
   "cell_type": "code",
   "execution_count": 17,
   "id": "441cb3f5-fb1f-4fda-959a-0ae68c214736",
   "metadata": {
    "collapsed": true,
    "jupyter": {
     "outputs_hidden": true
    },
    "tags": []
   },
   "outputs": [
    {
     "ename": "ColumnNotFoundError",
     "evalue": "unable to find column \"idxmax\"; valid columns: [\"timestamp\", \"user\", \"coordinate\", \"pixel_color\", \"x\", \"y\"]\n\nError originated just after this operation:\nDF [\"timestamp\", \"user\", \"coordinate\", \"pixel_color\"]; PROJECT */6 COLUMNS; SELECTION: \"None\"",
     "output_type": "error",
     "traceback": [
      "\u001b[0;31m---------------------------------------------------------------------------\u001b[0m",
      "\u001b[0;31mColumnNotFoundError\u001b[0m                       Traceback (most recent call last)",
      "Cell \u001b[0;32mIn[17], line 1\u001b[0m\n\u001b[0;32m----> 1\u001b[0m result_df \u001b[38;5;241m=\u001b[39m pixels_placed\u001b[38;5;241m.\u001b[39mfilter(pl\u001b[38;5;241m.\u001b[39mcol(\u001b[38;5;124m'\u001b[39m\u001b[38;5;124midxmax\u001b[39m\u001b[38;5;124m'\u001b[39m)\u001b[38;5;241m.\u001b[39mis_in(idx_max_timestamp[\u001b[38;5;124m'\u001b[39m\u001b[38;5;124midxmax\u001b[39m\u001b[38;5;124m'\u001b[39m]))\n",
      "File \u001b[0;32m~/anaconda3/lib/python3.11/site-packages/polars/dataframe/frame.py:4298\u001b[0m, in \u001b[0;36mDataFrame.filter\u001b[0;34m(self, *predicates, **constraints)\u001b[0m\n\u001b[1;32m   4200\u001b[0m \u001b[38;5;28;01mdef\u001b[39;00m \u001b[38;5;21mfilter\u001b[39m(\n\u001b[1;32m   4201\u001b[0m     \u001b[38;5;28mself\u001b[39m,\n\u001b[1;32m   4202\u001b[0m     \u001b[38;5;241m*\u001b[39mpredicates: (\n\u001b[0;32m   (...)\u001b[0m\n\u001b[1;32m   4209\u001b[0m     \u001b[38;5;241m*\u001b[39m\u001b[38;5;241m*\u001b[39mconstraints: Any,\n\u001b[1;32m   4210\u001b[0m ) \u001b[38;5;241m-\u001b[39m\u001b[38;5;241m>\u001b[39m DataFrame:\n\u001b[1;32m   4211\u001b[0m \u001b[38;5;250m    \u001b[39m\u001b[38;5;124;03m\"\"\"\u001b[39;00m\n\u001b[1;32m   4212\u001b[0m \u001b[38;5;124;03m    Filter the rows in the DataFrame based on one or more predicate expressions.\u001b[39;00m\n\u001b[1;32m   4213\u001b[0m \n\u001b[0;32m   (...)\u001b[0m\n\u001b[1;32m   4296\u001b[0m \u001b[38;5;124;03m    └─────┴─────┴─────┘\u001b[39;00m\n\u001b[1;32m   4297\u001b[0m \u001b[38;5;124;03m    \"\"\"\u001b[39;00m\n\u001b[0;32m-> 4298\u001b[0m     \u001b[38;5;28;01mreturn\u001b[39;00m \u001b[38;5;28mself\u001b[39m\u001b[38;5;241m.\u001b[39mlazy()\u001b[38;5;241m.\u001b[39mfilter(\u001b[38;5;241m*\u001b[39mpredicates, \u001b[38;5;241m*\u001b[39m\u001b[38;5;241m*\u001b[39mconstraints)\u001b[38;5;241m.\u001b[39mcollect(_eager\u001b[38;5;241m=\u001b[39m\u001b[38;5;28;01mTrue\u001b[39;00m)\n",
      "File \u001b[0;32m~/anaconda3/lib/python3.11/site-packages/polars/lazyframe/frame.py:1940\u001b[0m, in \u001b[0;36mLazyFrame.collect\u001b[0;34m(self, type_coercion, predicate_pushdown, projection_pushdown, simplify_expression, slice_pushdown, comm_subplan_elim, comm_subexpr_elim, no_optimization, streaming, background, _eager)\u001b[0m\n\u001b[1;32m   1937\u001b[0m \u001b[38;5;28;01mif\u001b[39;00m background:\n\u001b[1;32m   1938\u001b[0m     \u001b[38;5;28;01mreturn\u001b[39;00m InProcessQuery(ldf\u001b[38;5;241m.\u001b[39mcollect_concurrently())\n\u001b[0;32m-> 1940\u001b[0m \u001b[38;5;28;01mreturn\u001b[39;00m wrap_df(ldf\u001b[38;5;241m.\u001b[39mcollect())\n",
      "\u001b[0;31mColumnNotFoundError\u001b[0m: unable to find column \"idxmax\"; valid columns: [\"timestamp\", \"user\", \"coordinate\", \"pixel_color\", \"x\", \"y\"]\n\nError originated just after this operation:\nDF [\"timestamp\", \"user\", \"coordinate\", \"pixel_color\"]; PROJECT */6 COLUMNS; SELECTION: \"None\""
     ]
    }
   ],
   "source": [
    "result_df = pixels_placed.filter(pl.col('idxmax').is_in(idx_max_timestamp['idxmax']))"
   ]
  },
  {
   "cell_type": "code",
   "execution_count": 15,
   "id": "5d5107d1-d5cd-4f67-a001-54238ea2d82f",
   "metadata": {
    "collapsed": true,
    "jupyter": {
     "outputs_hidden": true
    },
    "tags": []
   },
   "outputs": [
    {
     "data": {
      "text/html": [
       "<div><style>\n",
       ".dataframe > thead > tr,\n",
       ".dataframe > tbody > tr {\n",
       "  text-align: right;\n",
       "  white-space: pre-wrap;\n",
       "}\n",
       "</style>\n",
       "<small>shape: (10, 2)</small><table border=\"1\" class=\"dataframe\"><thead><tr><th>user</th><th>place_count</th></tr><tr><td>str</td><td>u32</td></tr></thead><tbody><tr><td>&quot;AS0KN9rxoynWuN…</td><td>1</td></tr><tr><td>&quot;iyPavVpo8ojDYs…</td><td>1</td></tr><tr><td>&quot;vFCy3asEWbBER9…</td><td>1</td></tr><tr><td>&quot;qJ7O6cuUNfkDyn…</td><td>1</td></tr><tr><td>&quot;aWwqNqt6Ydlvny…</td><td>1</td></tr><tr><td>&quot;uqi5XwkBePwcPK…</td><td>1</td></tr><tr><td>&quot;2bmivBNj8NYvnp…</td><td>1</td></tr><tr><td>&quot;a6Q+OsCSRDcPxh…</td><td>1</td></tr><tr><td>&quot;no+8HEIDjbdx7/…</td><td>1</td></tr><tr><td>&quot;rgSTj7FHZUHsLX…</td><td>1</td></tr></tbody></table></div>"
      ],
      "text/plain": [
       "shape: (10, 2)\n",
       "┌───────────────────────────────────┬─────────────┐\n",
       "│ user                              ┆ place_count │\n",
       "│ ---                               ┆ ---         │\n",
       "│ str                               ┆ u32         │\n",
       "╞═══════════════════════════════════╪═════════════╡\n",
       "│ AS0KN9rxoynWuNZWvX3Aaqv9UwZFkLhq… ┆ 1           │\n",
       "│ iyPavVpo8ojDYs4NBNrbOVyIgUkpXSWt… ┆ 1           │\n",
       "│ vFCy3asEWbBER9NYcILtUCB+KYxRWIGM… ┆ 1           │\n",
       "│ qJ7O6cuUNfkDyn+ZOEYR+UiVEmAu/vYf… ┆ 1           │\n",
       "│ aWwqNqt6YdlvnygRgoEovZgf0GgBepj6… ┆ 1           │\n",
       "│ uqi5XwkBePwcPKJgGOxHKzzzXuZKU6iK… ┆ 1           │\n",
       "│ 2bmivBNj8NYvnp/15k0EqC+75T1OxTtC… ┆ 1           │\n",
       "│ a6Q+OsCSRDcPxhxYtOsWmY1eROZ5FGYO… ┆ 1           │\n",
       "│ no+8HEIDjbdx7/LxH9Xr+h4lyoar0MRT… ┆ 1           │\n",
       "│ rgSTj7FHZUHsLXZLLNj9+vxibHIowb2+… ┆ 1           │\n",
       "└───────────────────────────────────┴─────────────┘"
      ]
     },
     "execution_count": 15,
     "metadata": {},
     "output_type": "execute_result"
    }
   ],
   "source": [
    "df.head(10).group_by(\"user\").agg(place_count = pl.col(\"coordinate\").len()).collect(streaming=True)"
   ]
  },
  {
   "cell_type": "code",
   "execution_count": 24,
   "id": "407f3c8f-098c-4016-98c7-dcc5f8904a02",
   "metadata": {
    "tags": []
   },
   "outputs": [],
   "source": [
    "# Aggregate df to count unique pixels and colors per user\n",
    "agg_df = df.group_by('user').agg(\n",
    "    color_count=pl.col('pixel_color').len(),\n",
    "    place_count=pl.col('coordinate').len()\n",
    ")\n",
    "\n",
    "# Filter to find users with only one color or one place\n",
    "filtered_df = agg_df.filter(\n",
    "    (pl.col('color_count') == 1) | (pl.col('place_count') == 1)\n",
    ")"
   ]
  },
  {
   "cell_type": "code",
   "execution_count": 23,
   "id": "36785e10-24ee-46f4-8a79-3f38009e72cc",
   "metadata": {
    "collapsed": true,
    "jupyter": {
     "outputs_hidden": true
    },
    "tags": []
   },
   "outputs": [
    {
     "name": "stderr",
     "output_type": "stream",
     "text": [
      "thread '<unnamed>' panicked at crates/polars-core/src/series/ops/null.rs:77:17:\n",
      "not implemented for dtype Object(\"object\", None)\n",
      "--- PyO3 is resuming a panic after fetching a PanicException from Python. ---\n",
      "Python stack trace below:\n"
     ]
    },
    {
     "ename": "PanicException",
     "evalue": "not implemented for dtype Object(\"object\", None)",
     "output_type": "error",
     "traceback": [
      "\u001b[0;31m---------------------------------------------------------------------------\u001b[0m",
      "\u001b[0;31mPanicException\u001b[0m                            Traceback (most recent call last)",
      "File \u001b[0;32m~/anaconda3/lib/python3.11/site-packages/polars/expr/expr.py:4002\u001b[0m, in \u001b[0;36mExpr._map_batches_wrapper.__call__\u001b[0;34m(self, *args, **kwargs)\u001b[0m\n\u001b[1;32m   4001\u001b[0m \u001b[38;5;28;01mdef\u001b[39;00m \u001b[38;5;21m__call__\u001b[39m(\u001b[38;5;28mself\u001b[39m, \u001b[38;5;241m*\u001b[39margs: Any, \u001b[38;5;241m*\u001b[39m\u001b[38;5;241m*\u001b[39mkwargs: Any) \u001b[38;5;241m-\u001b[39m\u001b[38;5;241m>\u001b[39m Any:\n\u001b[0;32m-> 4002\u001b[0m     result \u001b[38;5;241m=\u001b[39m \u001b[38;5;28mself\u001b[39m\u001b[38;5;241m.\u001b[39mfunction(\u001b[38;5;241m*\u001b[39margs, \u001b[38;5;241m*\u001b[39m\u001b[38;5;241m*\u001b[39mkwargs)\n\u001b[1;32m   4003\u001b[0m     \u001b[38;5;28;01mif\u001b[39;00m _check_for_numpy(result) \u001b[38;5;129;01mand\u001b[39;00m \u001b[38;5;28misinstance\u001b[39m(result, np\u001b[38;5;241m.\u001b[39mndarray):\n\u001b[1;32m   4004\u001b[0m         result \u001b[38;5;241m=\u001b[39m pl\u001b[38;5;241m.\u001b[39mSeries(result, dtype\u001b[38;5;241m=\u001b[39m\u001b[38;5;28mself\u001b[39m\u001b[38;5;241m.\u001b[39mreturn_dtype)\n",
      "File \u001b[0;32m~/anaconda3/lib/python3.11/site-packages/polars/expr/expr.py:4334\u001b[0m, in \u001b[0;36mExpr.map_elements.<locals>.wrap_f\u001b[0;34m(x)\u001b[0m\n\u001b[1;32m   4332\u001b[0m \u001b[38;5;28;01mwith\u001b[39;00m warnings\u001b[38;5;241m.\u001b[39mcatch_warnings():\n\u001b[1;32m   4333\u001b[0m     warnings\u001b[38;5;241m.\u001b[39msimplefilter(\u001b[38;5;124m\"\u001b[39m\u001b[38;5;124mignore\u001b[39m\u001b[38;5;124m\"\u001b[39m, PolarsInefficientMapWarning)\n\u001b[0;32m-> 4334\u001b[0m     \u001b[38;5;28;01mreturn\u001b[39;00m x\u001b[38;5;241m.\u001b[39mmap_elements(\n\u001b[1;32m   4335\u001b[0m         function, return_dtype\u001b[38;5;241m=\u001b[39mreturn_dtype, skip_nulls\u001b[38;5;241m=\u001b[39mskip_nulls\n\u001b[1;32m   4336\u001b[0m     )\n",
      "File \u001b[0;32m~/anaconda3/lib/python3.11/site-packages/polars/series/series.py:5312\u001b[0m, in \u001b[0;36mSeries.map_elements\u001b[0;34m(self, function, return_dtype, skip_nulls)\u001b[0m\n\u001b[1;32m   5308\u001b[0m     pl_return_dtype \u001b[38;5;241m=\u001b[39m py_type_to_dtype(return_dtype)\n\u001b[1;32m   5310\u001b[0m warn_on_inefficient_map(function, columns\u001b[38;5;241m=\u001b[39m[\u001b[38;5;28mself\u001b[39m\u001b[38;5;241m.\u001b[39mname], map_target\u001b[38;5;241m=\u001b[39m\u001b[38;5;124m\"\u001b[39m\u001b[38;5;124mseries\u001b[39m\u001b[38;5;124m\"\u001b[39m)\n\u001b[1;32m   5311\u001b[0m \u001b[38;5;28;01mreturn\u001b[39;00m \u001b[38;5;28mself\u001b[39m\u001b[38;5;241m.\u001b[39m_from_pyseries(\n\u001b[0;32m-> 5312\u001b[0m     \u001b[38;5;28mself\u001b[39m\u001b[38;5;241m.\u001b[39m_s\u001b[38;5;241m.\u001b[39mapply_lambda(function, pl_return_dtype, skip_nulls)\n\u001b[1;32m   5313\u001b[0m )\n",
      "\u001b[0;31mPanicException\u001b[0m: not implemented for dtype Object(\"object\", None)"
     ]
    },
    {
     "ename": "PanicException",
     "evalue": "not implemented for dtype Object(\"object\", None)",
     "output_type": "error",
     "traceback": [
      "\u001b[0;31m---------------------------------------------------------------------------\u001b[0m",
      "\u001b[0;31mPanicException\u001b[0m                            Traceback (most recent call last)",
      "Cell \u001b[0;32mIn[23], line 1\u001b[0m\n\u001b[0;32m----> 1\u001b[0m filtered_df\u001b[38;5;241m.\u001b[39mcollect(streaming\u001b[38;5;241m=\u001b[39m\u001b[38;5;28;01mTrue\u001b[39;00m)\n",
      "File \u001b[0;32m~/anaconda3/lib/python3.11/site-packages/polars/lazyframe/frame.py:1940\u001b[0m, in \u001b[0;36mLazyFrame.collect\u001b[0;34m(self, type_coercion, predicate_pushdown, projection_pushdown, simplify_expression, slice_pushdown, comm_subplan_elim, comm_subexpr_elim, no_optimization, streaming, background, _eager)\u001b[0m\n\u001b[1;32m   1937\u001b[0m \u001b[38;5;28;01mif\u001b[39;00m background:\n\u001b[1;32m   1938\u001b[0m     \u001b[38;5;28;01mreturn\u001b[39;00m InProcessQuery(ldf\u001b[38;5;241m.\u001b[39mcollect_concurrently())\n\u001b[0;32m-> 1940\u001b[0m \u001b[38;5;28;01mreturn\u001b[39;00m wrap_df(ldf\u001b[38;5;241m.\u001b[39mcollect())\n",
      "\u001b[0;31mPanicException\u001b[0m: not implemented for dtype Object(\"object\", None)"
     ]
    }
   ],
   "source": [
    "filtered_df.collect(streaming=True)"
   ]
  },
  {
   "cell_type": "code",
   "execution_count": 32,
   "id": "d2b34cd7-119e-41ad-8d5a-6bdc24e73b98",
   "metadata": {
    "tags": []
   },
   "outputs": [
    {
     "data": {
      "text/html": [
       "<div><style>\n",
       ".dataframe > thead > tr,\n",
       ".dataframe > tbody > tr {\n",
       "  text-align: right;\n",
       "  white-space: pre-wrap;\n",
       "}\n",
       "</style>\n",
       "<small>shape: (10, 6)</small><table border=\"1\" class=\"dataframe\"><thead><tr><th>timestamp</th><th>user</th><th>coordinate</th><th>pixel_color</th><th>x</th><th>y</th></tr><tr><td>datetime[μs]</td><td>str</td><td>object</td><td>str</td><td>i32</td><td>i32</td></tr></thead><tbody><tr><td>2023-07-20 13:00:26.088</td><td>&quot;no+8HEIDjbdx7/…</td><td>-199,-235</td><td>&quot;#FFFFFF&quot;</td><td>-199</td><td>-235</td></tr><tr><td>2023-07-20 13:00:43.658</td><td>&quot;qJ7O6cuUNfkDyn…</td><td>0,-298</td><td>&quot;#FF4500&quot;</td><td>0</td><td>-298</td></tr><tr><td>2023-07-20 13:00:43.705</td><td>&quot;uqi5XwkBePwcPK…</td><td>-42,-218</td><td>&quot;#FFFFFF&quot;</td><td>-42</td><td>-218</td></tr><tr><td>2023-07-20 13:01:02.487</td><td>&quot;rgSTj7FHZUHsLX…</td><td>-418,-232</td><td>&quot;#B44AC0&quot;</td><td>-418</td><td>-232</td></tr><tr><td>2023-07-20 13:01:40.445</td><td>&quot;2bmivBNj8NYvnp…</td><td>182,164</td><td>&quot;#FF4500&quot;</td><td>182</td><td>164</td></tr><tr><td>2023-07-20 13:01:51.457</td><td>&quot;iyPavVpo8ojDYs…</td><td>-113,-1</td><td>&quot;#FFFFFF&quot;</td><td>-113</td><td>-1</td></tr><tr><td>2023-07-20 13:01:52.149</td><td>&quot;a6Q+OsCSRDcPxh…</td><td>-64,-34</td><td>&quot;#3690EA&quot;</td><td>-64</td><td>-34</td></tr><tr><td>2023-07-20 13:01:57.333</td><td>&quot;AS0KN9rxoynWuN…</td><td>-267,-142</td><td>&quot;#FFFFFF&quot;</td><td>-267</td><td>-142</td></tr><tr><td>2023-07-20 13:02:14.260</td><td>&quot;aWwqNqt6Ydlvny…</td><td>-43,52</td><td>&quot;#00A368&quot;</td><td>-43</td><td>52</td></tr><tr><td>2023-07-20 13:03:42.173</td><td>&quot;vFCy3asEWbBER9…</td><td>-43,74</td><td>&quot;#000000&quot;</td><td>-43</td><td>74</td></tr></tbody></table></div>"
      ],
      "text/plain": [
       "shape: (10, 6)\n",
       "┌─────────────────────────┬───────────────────────────────┬────────────┬─────────────┬──────┬──────┐\n",
       "│ timestamp               ┆ user                          ┆ coordinate ┆ pixel_color ┆ x    ┆ y    │\n",
       "│ ---                     ┆ ---                           ┆ ---        ┆ ---         ┆ ---  ┆ ---  │\n",
       "│ datetime[μs]            ┆ str                           ┆ object     ┆ str         ┆ i32  ┆ i32  │\n",
       "╞═════════════════════════╪═══════════════════════════════╪════════════╪═════════════╪══════╪══════╡\n",
       "│ 2023-07-20 13:00:26.088 ┆ no+8HEIDjbdx7/LxH9Xr+h4lyoar0 ┆ -199,-235  ┆ #FFFFFF     ┆ -199 ┆ -235 │\n",
       "│                         ┆ MRT…                          ┆            ┆             ┆      ┆      │\n",
       "│ 2023-07-20 13:00:43.658 ┆ qJ7O6cuUNfkDyn+ZOEYR+UiVEmAu/ ┆ 0,-298     ┆ #FF4500     ┆ 0    ┆ -298 │\n",
       "│                         ┆ vYf…                          ┆            ┆             ┆      ┆      │\n",
       "│ 2023-07-20 13:00:43.705 ┆ uqi5XwkBePwcPKJgGOxHKzzzXuZKU ┆ -42,-218   ┆ #FFFFFF     ┆ -42  ┆ -218 │\n",
       "│                         ┆ 6iK…                          ┆            ┆             ┆      ┆      │\n",
       "│ 2023-07-20 13:01:02.487 ┆ rgSTj7FHZUHsLXZLLNj9+vxibHIow ┆ -418,-232  ┆ #B44AC0     ┆ -418 ┆ -232 │\n",
       "│                         ┆ b2+…                          ┆            ┆             ┆      ┆      │\n",
       "│ 2023-07-20 13:01:40.445 ┆ 2bmivBNj8NYvnp/15k0EqC+75T1Ox ┆ 182,164    ┆ #FF4500     ┆ 182  ┆ 164  │\n",
       "│                         ┆ TtC…                          ┆            ┆             ┆      ┆      │\n",
       "│ 2023-07-20 13:01:51.457 ┆ iyPavVpo8ojDYs4NBNrbOVyIgUkpX ┆ -113,-1    ┆ #FFFFFF     ┆ -113 ┆ -1   │\n",
       "│                         ┆ SWt…                          ┆            ┆             ┆      ┆      │\n",
       "│ 2023-07-20 13:01:52.149 ┆ a6Q+OsCSRDcPxhxYtOsWmY1eROZ5F ┆ -64,-34    ┆ #3690EA     ┆ -64  ┆ -34  │\n",
       "│                         ┆ GYO…                          ┆            ┆             ┆      ┆      │\n",
       "│ 2023-07-20 13:01:57.333 ┆ AS0KN9rxoynWuNZWvX3Aaqv9UwZFk ┆ -267,-142  ┆ #FFFFFF     ┆ -267 ┆ -142 │\n",
       "│                         ┆ Lhq…                          ┆            ┆             ┆      ┆      │\n",
       "│ 2023-07-20 13:02:14.260 ┆ aWwqNqt6YdlvnygRgoEovZgf0GgBe ┆ -43,52     ┆ #00A368     ┆ -43  ┆ 52   │\n",
       "│                         ┆ pj6…                          ┆            ┆             ┆      ┆      │\n",
       "│ 2023-07-20 13:03:42.173 ┆ vFCy3asEWbBER9NYcILtUCB+KYxRW ┆ -43,74     ┆ #000000     ┆ -43  ┆ 74   │\n",
       "│                         ┆ IGM…                          ┆            ┆             ┆      ┆      │\n",
       "└─────────────────────────┴───────────────────────────────┴────────────┴─────────────┴──────┴──────┘"
      ]
     },
     "execution_count": 32,
     "metadata": {},
     "output_type": "execute_result"
    }
   ],
   "source": [
    "df.head(10).collect(streaming=True)"
   ]
  }
 ],
 "metadata": {
  "kernelspec": {
   "display_name": "Python 3 (ipykernel)",
   "language": "python",
   "name": "python3"
  },
  "language_info": {
   "codemirror_mode": {
    "name": "ipython",
    "version": 3
   },
   "file_extension": ".py",
   "mimetype": "text/x-python",
   "name": "python",
   "nbconvert_exporter": "python",
   "pygments_lexer": "ipython3",
   "version": "3.11.4"
  }
 },
 "nbformat": 4,
 "nbformat_minor": 5
}
