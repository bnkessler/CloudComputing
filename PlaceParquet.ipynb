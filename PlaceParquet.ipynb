{
 "cells": [
  {
   "cell_type": "code",
   "execution_count": 2,
   "id": "037139f2-08b5-4791-8f23-cdfe67bcf28d",
   "metadata": {
    "tags": []
   },
   "outputs": [],
   "source": [
    "# Importing necessary libraries for Parquet\n",
    "import pyarrow.csv as csv\n",
    "import pyarrow.parquet as pq\n",
    "import glob\n",
    "import os\n",
    "import pyarrow as pa\n",
    "from pyarrow import parquet"
   ]
  },
  {
   "cell_type": "code",
   "execution_count": 35,
   "id": "8299eef8-9251-4910-9abc-330f37bc69bc",
   "metadata": {
    "collapsed": true,
    "jupyter": {
     "outputs_hidden": true
    },
    "tags": []
   },
   "outputs": [
    {
     "name": "stdout",
     "output_type": "stream",
     "text": [
      "reading /Users/ben/Documents/GitHub/CloudComputing/RedditPlaceData/2023_place_canvas_history-000000000000.csv\n",
      "writing /Users/ben/Documents/GitHub/CloudComputing/RedditPlaceData/2023_place_canvas_history-000000000000.csv\n",
      "reading /Users/ben/Documents/GitHub/CloudComputing/RedditPlaceData/2023_place_canvas_history-000000000001.csv\n",
      "writing /Users/ben/Documents/GitHub/CloudComputing/RedditPlaceData/2023_place_canvas_history-000000000001.csv\n",
      "reading /Users/ben/Documents/GitHub/CloudComputing/RedditPlaceData/2023_place_canvas_history-000000000002.csv\n",
      "writing /Users/ben/Documents/GitHub/CloudComputing/RedditPlaceData/2023_place_canvas_history-000000000002.csv\n",
      "reading /Users/ben/Documents/GitHub/CloudComputing/RedditPlaceData/2023_place_canvas_history-000000000003.csv\n",
      "writing /Users/ben/Documents/GitHub/CloudComputing/RedditPlaceData/2023_place_canvas_history-000000000003.csv\n",
      "reading /Users/ben/Documents/GitHub/CloudComputing/RedditPlaceData/2023_place_canvas_history-000000000004.csv\n",
      "writing /Users/ben/Documents/GitHub/CloudComputing/RedditPlaceData/2023_place_canvas_history-000000000004.csv\n",
      "reading /Users/ben/Documents/GitHub/CloudComputing/RedditPlaceData/2023_place_canvas_history-000000000005.csv\n",
      "writing /Users/ben/Documents/GitHub/CloudComputing/RedditPlaceData/2023_place_canvas_history-000000000005.csv\n",
      "reading /Users/ben/Documents/GitHub/CloudComputing/RedditPlaceData/2023_place_canvas_history-000000000006.csv\n",
      "writing /Users/ben/Documents/GitHub/CloudComputing/RedditPlaceData/2023_place_canvas_history-000000000006.csv\n",
      "reading /Users/ben/Documents/GitHub/CloudComputing/RedditPlaceData/2023_place_canvas_history-000000000007.csv\n",
      "writing /Users/ben/Documents/GitHub/CloudComputing/RedditPlaceData/2023_place_canvas_history-000000000007.csv\n",
      "reading /Users/ben/Documents/GitHub/CloudComputing/RedditPlaceData/2023_place_canvas_history-000000000008.csv\n",
      "writing /Users/ben/Documents/GitHub/CloudComputing/RedditPlaceData/2023_place_canvas_history-000000000008.csv\n",
      "reading /Users/ben/Documents/GitHub/CloudComputing/RedditPlaceData/2023_place_canvas_history-000000000009.csv\n",
      "writing /Users/ben/Documents/GitHub/CloudComputing/RedditPlaceData/2023_place_canvas_history-000000000009.csv\n",
      "reading /Users/ben/Documents/GitHub/CloudComputing/RedditPlaceData/2023_place_canvas_history-000000000010.csv\n",
      "writing /Users/ben/Documents/GitHub/CloudComputing/RedditPlaceData/2023_place_canvas_history-000000000010.csv\n",
      "reading /Users/ben/Documents/GitHub/CloudComputing/RedditPlaceData/2023_place_canvas_history-000000000011.csv\n",
      "writing /Users/ben/Documents/GitHub/CloudComputing/RedditPlaceData/2023_place_canvas_history-000000000011.csv\n",
      "reading /Users/ben/Documents/GitHub/CloudComputing/RedditPlaceData/2023_place_canvas_history-000000000012.csv\n",
      "writing /Users/ben/Documents/GitHub/CloudComputing/RedditPlaceData/2023_place_canvas_history-000000000012.csv\n",
      "reading /Users/ben/Documents/GitHub/CloudComputing/RedditPlaceData/2023_place_canvas_history-000000000013.csv\n",
      "writing /Users/ben/Documents/GitHub/CloudComputing/RedditPlaceData/2023_place_canvas_history-000000000013.csv\n",
      "reading /Users/ben/Documents/GitHub/CloudComputing/RedditPlaceData/2023_place_canvas_history-000000000014.csv\n",
      "writing /Users/ben/Documents/GitHub/CloudComputing/RedditPlaceData/2023_place_canvas_history-000000000014.csv\n",
      "reading /Users/ben/Documents/GitHub/CloudComputing/RedditPlaceData/2023_place_canvas_history-000000000015.csv\n",
      "writing /Users/ben/Documents/GitHub/CloudComputing/RedditPlaceData/2023_place_canvas_history-000000000015.csv\n",
      "reading /Users/ben/Documents/GitHub/CloudComputing/RedditPlaceData/2023_place_canvas_history-000000000016.csv\n",
      "writing /Users/ben/Documents/GitHub/CloudComputing/RedditPlaceData/2023_place_canvas_history-000000000016.csv\n",
      "reading /Users/ben/Documents/GitHub/CloudComputing/RedditPlaceData/2023_place_canvas_history-000000000017.csv\n",
      "writing /Users/ben/Documents/GitHub/CloudComputing/RedditPlaceData/2023_place_canvas_history-000000000017.csv\n",
      "reading /Users/ben/Documents/GitHub/CloudComputing/RedditPlaceData/2023_place_canvas_history-000000000018.csv\n",
      "writing /Users/ben/Documents/GitHub/CloudComputing/RedditPlaceData/2023_place_canvas_history-000000000018.csv\n",
      "reading /Users/ben/Documents/GitHub/CloudComputing/RedditPlaceData/2023_place_canvas_history-000000000019.csv\n",
      "writing /Users/ben/Documents/GitHub/CloudComputing/RedditPlaceData/2023_place_canvas_history-000000000019.csv\n",
      "reading /Users/ben/Documents/GitHub/CloudComputing/RedditPlaceData/2023_place_canvas_history-000000000020.csv\n",
      "writing /Users/ben/Documents/GitHub/CloudComputing/RedditPlaceData/2023_place_canvas_history-000000000020.csv\n",
      "reading /Users/ben/Documents/GitHub/CloudComputing/RedditPlaceData/2023_place_canvas_history-000000000021.csv\n",
      "writing /Users/ben/Documents/GitHub/CloudComputing/RedditPlaceData/2023_place_canvas_history-000000000021.csv\n",
      "reading /Users/ben/Documents/GitHub/CloudComputing/RedditPlaceData/2023_place_canvas_history-000000000022.csv\n",
      "writing /Users/ben/Documents/GitHub/CloudComputing/RedditPlaceData/2023_place_canvas_history-000000000022.csv\n",
      "reading /Users/ben/Documents/GitHub/CloudComputing/RedditPlaceData/2023_place_canvas_history-000000000023.csv\n",
      "writing /Users/ben/Documents/GitHub/CloudComputing/RedditPlaceData/2023_place_canvas_history-000000000023.csv\n",
      "reading /Users/ben/Documents/GitHub/CloudComputing/RedditPlaceData/2023_place_canvas_history-000000000024.csv\n",
      "writing /Users/ben/Documents/GitHub/CloudComputing/RedditPlaceData/2023_place_canvas_history-000000000024.csv\n",
      "reading /Users/ben/Documents/GitHub/CloudComputing/RedditPlaceData/2023_place_canvas_history-000000000025.csv\n",
      "writing /Users/ben/Documents/GitHub/CloudComputing/RedditPlaceData/2023_place_canvas_history-000000000025.csv\n",
      "reading /Users/ben/Documents/GitHub/CloudComputing/RedditPlaceData/2023_place_canvas_history-000000000026.csv\n",
      "writing /Users/ben/Documents/GitHub/CloudComputing/RedditPlaceData/2023_place_canvas_history-000000000026.csv\n",
      "reading /Users/ben/Documents/GitHub/CloudComputing/RedditPlaceData/2023_place_canvas_history-000000000027.csv\n",
      "writing /Users/ben/Documents/GitHub/CloudComputing/RedditPlaceData/2023_place_canvas_history-000000000027.csv\n",
      "reading /Users/ben/Documents/GitHub/CloudComputing/RedditPlaceData/2023_place_canvas_history-000000000028.csv\n",
      "writing /Users/ben/Documents/GitHub/CloudComputing/RedditPlaceData/2023_place_canvas_history-000000000028.csv\n",
      "reading /Users/ben/Documents/GitHub/CloudComputing/RedditPlaceData/2023_place_canvas_history-000000000029.csv\n",
      "writing /Users/ben/Documents/GitHub/CloudComputing/RedditPlaceData/2023_place_canvas_history-000000000029.csv\n",
      "reading /Users/ben/Documents/GitHub/CloudComputing/RedditPlaceData/2023_place_canvas_history-000000000030.csv\n",
      "writing /Users/ben/Documents/GitHub/CloudComputing/RedditPlaceData/2023_place_canvas_history-000000000030.csv\n",
      "reading /Users/ben/Documents/GitHub/CloudComputing/RedditPlaceData/2023_place_canvas_history-000000000031.csv\n",
      "writing /Users/ben/Documents/GitHub/CloudComputing/RedditPlaceData/2023_place_canvas_history-000000000031.csv\n",
      "reading /Users/ben/Documents/GitHub/CloudComputing/RedditPlaceData/2023_place_canvas_history-000000000032.csv\n",
      "writing /Users/ben/Documents/GitHub/CloudComputing/RedditPlaceData/2023_place_canvas_history-000000000032.csv\n",
      "reading /Users/ben/Documents/GitHub/CloudComputing/RedditPlaceData/2023_place_canvas_history-000000000033.csv\n",
      "writing /Users/ben/Documents/GitHub/CloudComputing/RedditPlaceData/2023_place_canvas_history-000000000033.csv\n",
      "reading /Users/ben/Documents/GitHub/CloudComputing/RedditPlaceData/2023_place_canvas_history-000000000035.csv\n",
      "writing /Users/ben/Documents/GitHub/CloudComputing/RedditPlaceData/2023_place_canvas_history-000000000035.csv\n",
      "reading /Users/ben/Documents/GitHub/CloudComputing/RedditPlaceData/2023_place_canvas_history-000000000036.csv\n",
      "writing /Users/ben/Documents/GitHub/CloudComputing/RedditPlaceData/2023_place_canvas_history-000000000036.csv\n",
      "reading /Users/ben/Documents/GitHub/CloudComputing/RedditPlaceData/2023_place_canvas_history-000000000037.csv\n",
      "writing /Users/ben/Documents/GitHub/CloudComputing/RedditPlaceData/2023_place_canvas_history-000000000037.csv\n",
      "reading /Users/ben/Documents/GitHub/CloudComputing/RedditPlaceData/2023_place_canvas_history-000000000038.csv\n",
      "writing /Users/ben/Documents/GitHub/CloudComputing/RedditPlaceData/2023_place_canvas_history-000000000038.csv\n",
      "reading /Users/ben/Documents/GitHub/CloudComputing/RedditPlaceData/2023_place_canvas_history-000000000039.csv\n",
      "writing /Users/ben/Documents/GitHub/CloudComputing/RedditPlaceData/2023_place_canvas_history-000000000039.csv\n",
      "reading /Users/ben/Documents/GitHub/CloudComputing/RedditPlaceData/2023_place_canvas_history-000000000040.csv\n",
      "writing /Users/ben/Documents/GitHub/CloudComputing/RedditPlaceData/2023_place_canvas_history-000000000040.csv\n",
      "reading /Users/ben/Documents/GitHub/CloudComputing/RedditPlaceData/2023_place_canvas_history-000000000041.csv\n",
      "writing /Users/ben/Documents/GitHub/CloudComputing/RedditPlaceData/2023_place_canvas_history-000000000041.csv\n",
      "reading /Users/ben/Documents/GitHub/CloudComputing/RedditPlaceData/2023_place_canvas_history-000000000042.csv\n",
      "writing /Users/ben/Documents/GitHub/CloudComputing/RedditPlaceData/2023_place_canvas_history-000000000042.csv\n",
      "reading /Users/ben/Documents/GitHub/CloudComputing/RedditPlaceData/2023_place_canvas_history-000000000043.csv\n",
      "writing /Users/ben/Documents/GitHub/CloudComputing/RedditPlaceData/2023_place_canvas_history-000000000043.csv\n",
      "reading /Users/ben/Documents/GitHub/CloudComputing/RedditPlaceData/2023_place_canvas_history-000000000044.csv\n",
      "writing /Users/ben/Documents/GitHub/CloudComputing/RedditPlaceData/2023_place_canvas_history-000000000044.csv\n",
      "reading /Users/ben/Documents/GitHub/CloudComputing/RedditPlaceData/2023_place_canvas_history-000000000045.csv\n",
      "writing /Users/ben/Documents/GitHub/CloudComputing/RedditPlaceData/2023_place_canvas_history-000000000045.csv\n",
      "reading /Users/ben/Documents/GitHub/CloudComputing/RedditPlaceData/2023_place_canvas_history-000000000046.csv\n",
      "writing /Users/ben/Documents/GitHub/CloudComputing/RedditPlaceData/2023_place_canvas_history-000000000046.csv\n",
      "reading /Users/ben/Documents/GitHub/CloudComputing/RedditPlaceData/2023_place_canvas_history-000000000047.csv\n",
      "writing /Users/ben/Documents/GitHub/CloudComputing/RedditPlaceData/2023_place_canvas_history-000000000047.csv\n",
      "reading /Users/ben/Documents/GitHub/CloudComputing/RedditPlaceData/2023_place_canvas_history-000000000048.csv\n",
      "writing /Users/ben/Documents/GitHub/CloudComputing/RedditPlaceData/2023_place_canvas_history-000000000048.csv\n",
      "reading /Users/ben/Documents/GitHub/CloudComputing/RedditPlaceData/2023_place_canvas_history-000000000049.csv\n",
      "writing /Users/ben/Documents/GitHub/CloudComputing/RedditPlaceData/2023_place_canvas_history-000000000049.csv\n",
      "reading /Users/ben/Documents/GitHub/CloudComputing/RedditPlaceData/2023_place_canvas_history-000000000050.csv\n",
      "writing /Users/ben/Documents/GitHub/CloudComputing/RedditPlaceData/2023_place_canvas_history-000000000050.csv\n",
      "reading /Users/ben/Documents/GitHub/CloudComputing/RedditPlaceData/2023_place_canvas_history-000000000051.csv\n",
      "writing /Users/ben/Documents/GitHub/CloudComputing/RedditPlaceData/2023_place_canvas_history-000000000051.csv\n",
      "reading /Users/ben/Documents/GitHub/CloudComputing/RedditPlaceData/2023_place_canvas_history-000000000052.csv\n",
      "writing /Users/ben/Documents/GitHub/CloudComputing/RedditPlaceData/2023_place_canvas_history-000000000052.csv\n",
      "Combined CSVs to combined_place_data.parquet\n"
     ]
    }
   ],
   "source": [
    "# Providing folder path\n",
    "folder_path = \"/Users/ben/Documents/GitHub/CloudComputing/RedditPlaceData/\"\n",
    "\n",
    "# Partquet file name\n",
    "parquet_file = \"combined_place_data.parquet\"\n",
    "\n",
    "# Getting csv_file names\n",
    "csv_files = glob.glob(os.path.join(folder_path, '**/*.csv'), recursive=True)\n",
    "\n",
    "# Create Schema\n",
    "schema = pa.schema([\n",
    "    pa.field(\"timestamp\", pa.string()),\n",
    "    pa.field(\"user\", pa.string()),\n",
    "    pa.field(\"coordinate\", pa.string()),\n",
    "    pa.field(\"pixel_color\", pa.string())\n",
    "])\n",
    "\n",
    "# Initializing writer\n",
    "writer = parquet.ParquetWriter(parquet_file, schema, compression='snappy')\n",
    "\n",
    "# Iterating through csv files\n",
    "for file in sorted(csv_files):\n",
    "    \n",
    "    print(\"reading\", file)\n",
    "    table = csv.read_csv(file)\n",
    "    # Casting table to schema\n",
    "    table = table.cast(schema)\n",
    "\n",
    "    print(\"writing\", file)\n",
    "    writer.write_table(table)\n",
    "    \n",
    "if writer:\n",
    "    writer.close()\n",
    "    \n",
    "print(f\"Combined CSVs to {parquet_file}\")"
   ]
  },
  {
   "cell_type": "code",
   "execution_count": 81,
   "id": "df53de4d-c98a-46a1-9db7-ed530b2e10b9",
   "metadata": {
    "tags": []
   },
   "outputs": [],
   "source": [
    "import polars as pl\n",
    "import pyarrow.parquet as pq\n",
    "from datetime import datetime"
   ]
  },
  {
   "cell_type": "code",
   "execution_count": 2,
   "id": "486159b3-bfa2-41d6-a5d9-c1069feafde4",
   "metadata": {
    "tags": []
   },
   "outputs": [],
   "source": [
    "test_file = pq.ParquetFile(\"/Users/ben/Documents/GitHub/CloudComputing/combined_place_data.parquet\")"
   ]
  },
  {
   "cell_type": "code",
   "execution_count": 3,
   "id": "46981d76-2fd3-46e5-81b4-417b24b229e4",
   "metadata": {
    "tags": []
   },
   "outputs": [
    {
     "name": "stdout",
     "output_type": "stream",
     "text": [
      "Number of entries (rows) in the Parquet file: 129,788,513\n"
     ]
    }
   ],
   "source": [
    "print(f\"Number of entries (rows) in the Parquet file: {test_file.metadata.num_rows:,d}\")"
   ]
  },
  {
   "cell_type": "code",
   "execution_count": 4,
   "id": "10df837b-2883-42d4-a732-f890e96250dc",
   "metadata": {
    "tags": []
   },
   "outputs": [
    {
     "name": "stdout",
     "output_type": "stream",
     "text": [
      "read parquet\n"
     ]
    }
   ],
   "source": [
    "print(\"read parquet\")\n",
    "# Read the Parquet file\n",
    "df = pl.scan_parquet('combined_place_data.parquet')\n",
    "df = df.with_columns(pl.col(\"timestamp\").str.strptime(pl.Datetime, '%Y-%m-%d %H:%M:%S%.f %Z').cast(pl.Datetime, strict=False))"
   ]
  },
  {
   "cell_type": "code",
   "execution_count": 9,
   "id": "4024ea19-411d-447e-8601-326417f51fe2",
   "metadata": {
    "tags": []
   },
   "outputs": [],
   "source": [
    "value_counts = df.select(\"user\").group_by(\"user\").agg(pl.col('user').count().alias('count')).sort('count', descending=True).collect(streaming = True)"
   ]
  },
  {
   "cell_type": "code",
   "execution_count": 57,
   "id": "ec659cc3-f555-4a02-8fa1-c80518ce46d7",
   "metadata": {
    "tags": []
   },
   "outputs": [
    {
     "data": {
      "text/html": [
       "<div><style>\n",
       ".dataframe > thead > tr,\n",
       ".dataframe > tbody > tr {\n",
       "  text-align: right;\n",
       "  white-space: pre-wrap;\n",
       "}\n",
       "</style>\n",
       "<small>shape: (1, 1)</small><table border=\"1\" class=\"dataframe\"><thead><tr><th>count</th></tr><tr><td>f64</td></tr></thead><tbody><tr><td>37.0</td></tr></tbody></table></div>"
      ],
      "text/plain": [
       "shape: (1, 1)\n",
       "┌───────┐\n",
       "│ count │\n",
       "│ ---   │\n",
       "│ f64   │\n",
       "╞═══════╡\n",
       "│ 37.0  │\n",
       "└───────┘"
      ]
     },
     "execution_count": 57,
     "metadata": {},
     "output_type": "execute_result"
    }
   ],
   "source": [
    "value_counts.select(\"count\").quantile(quantile=.90).collect(streaming=True)"
   ]
  },
  {
   "cell_type": "code",
   "execution_count": 41,
   "id": "bed329b4-1335-45d3-ad93-cad13097c557",
   "metadata": {},
   "outputs": [],
   "source": [
    "value_counts = value_counts.with_columns(pl.col(\"count\").cast(int))"
   ]
  },
  {
   "cell_type": "code",
   "execution_count": 1,
   "id": "d06e77a4-0a03-4196-8d97-9d1a59204d56",
   "metadata": {
    "tags": []
   },
   "outputs": [
    {
     "ename": "NameError",
     "evalue": "name 'value_counts' is not defined",
     "output_type": "error",
     "traceback": [
      "\u001b[0;31m---------------------------------------------------------------------------\u001b[0m",
      "\u001b[0;31mNameError\u001b[0m                                 Traceback (most recent call last)",
      "Cell \u001b[0;32mIn[1], line 1\u001b[0m\n\u001b[0;32m----> 1\u001b[0m pbs_idx \u001b[38;5;241m=\u001b[39m value_counts\u001b[38;5;241m.\u001b[39mfilter(pl\u001b[38;5;241m.\u001b[39mcol(\u001b[38;5;124m\"\u001b[39m\u001b[38;5;124mcount\u001b[39m\u001b[38;5;124m\"\u001b[39m) \u001b[38;5;241m>\u001b[39m\u001b[38;5;241m=\u001b[39m \u001b[38;5;241m37\u001b[39m)\n",
      "\u001b[0;31mNameError\u001b[0m: name 'value_counts' is not defined"
     ]
    }
   ],
   "source": [
    "pbs_idx = value_counts.filter(pl.col(\"count\") >= 37)"
   ]
  },
  {
   "cell_type": "code",
   "execution_count": 91,
   "id": "87d48c58-22d4-4260-bda0-88d41aee8cf7",
   "metadata": {
    "tags": []
   },
   "outputs": [
    {
     "data": {
      "text/html": [
       "<div><style>\n",
       ".dataframe > thead > tr,\n",
       ".dataframe > tbody > tr {\n",
       "  text-align: right;\n",
       "  white-space: pre-wrap;\n",
       "}\n",
       "</style>\n",
       "<small>shape: (91_062_492, 4)</small><table border=\"1\" class=\"dataframe\"><thead><tr><th>timestamp</th><th>user</th><th>coordinate</th><th>pixel_color</th></tr><tr><td>str</td><td>str</td><td>str</td><td>str</td></tr></thead><tbody><tr><td>&quot;2023-07-20 13:…</td><td>&quot;no+8HEIDjbdx7/…</td><td>&quot;-199,-235&quot;</td><td>&quot;#FFFFFF&quot;</td></tr><tr><td>&quot;2023-07-20 13:…</td><td>&quot;uqi5XwkBePwcPK…</td><td>&quot;-42,-218&quot;</td><td>&quot;#FFFFFF&quot;</td></tr><tr><td>&quot;2023-07-20 13:…</td><td>&quot;2bmivBNj8NYvnp…</td><td>&quot;182,164&quot;</td><td>&quot;#FF4500&quot;</td></tr><tr><td>&quot;2023-07-20 13:…</td><td>&quot;iyPavVpo8ojDYs…</td><td>&quot;-113,-1&quot;</td><td>&quot;#FFFFFF&quot;</td></tr><tr><td>&quot;2023-07-20 13:…</td><td>&quot;a6Q+OsCSRDcPxh…</td><td>&quot;-64,-34&quot;</td><td>&quot;#3690EA&quot;</td></tr><tr><td>&quot;2023-07-20 13:…</td><td>&quot;AS0KN9rxoynWuN…</td><td>&quot;-267,-142&quot;</td><td>&quot;#FFFFFF&quot;</td></tr><tr><td>&quot;2023-07-20 13:…</td><td>&quot;vFCy3asEWbBER9…</td><td>&quot;-43,74&quot;</td><td>&quot;#000000&quot;</td></tr><tr><td>&quot;2023-07-20 13:…</td><td>&quot;rkTj/gktE+fk1u…</td><td>&quot;-279,242&quot;</td><td>&quot;#000000&quot;</td></tr><tr><td>&quot;2023-07-20 13:…</td><td>&quot;sxYEVPfaohJYIY…</td><td>&quot;60,-65&quot;</td><td>&quot;#000000&quot;</td></tr><tr><td>&quot;2023-07-20 13:…</td><td>&quot;ywG7MbcHONF6gs…</td><td>&quot;-32,263&quot;</td><td>&quot;#B44AC0&quot;</td></tr><tr><td>&quot;2023-07-20 13:…</td><td>&quot;FdP9nI9ZB1x8f0…</td><td>&quot;-62,280&quot;</td><td>&quot;#000000&quot;</td></tr><tr><td>&quot;2023-07-20 13:…</td><td>&quot;Sp4flue6oel2cw…</td><td>&quot;-143,266&quot;</td><td>&quot;#000000&quot;</td></tr><tr><td>&hellip;</td><td>&hellip;</td><td>&hellip;</td><td>&hellip;</td></tr><tr><td>&quot;2023-07-25 21:…</td><td>&quot;XIwMVb93rvHrB0…</td><td>&quot;696,969&quot;</td><td>&quot;#FFFFFF&quot;</td></tr><tr><td>&quot;2023-07-25 21:…</td><td>&quot;Nw6WXqAba2D1lD…</td><td>&quot;8,7&quot;</td><td>&quot;#FFFFFF&quot;</td></tr><tr><td>&quot;2023-07-25 21:…</td><td>&quot;s1HVsldottSygU…</td><td>&quot;-608,-348&quot;</td><td>&quot;#FFFFFF&quot;</td></tr><tr><td>&quot;2023-07-25 21:…</td><td>&quot;fo1itKpVnXgEvL…</td><td>&quot;88,88&quot;</td><td>&quot;#FFFFFF&quot;</td></tr><tr><td>&quot;2023-07-25 21:…</td><td>&quot;GMQ99ZkyORtrmR…</td><td>&quot;0,6&quot;</td><td>&quot;#FFFFFF&quot;</td></tr><tr><td>&quot;2023-07-25 21:…</td><td>&quot;A2p+RUPhNjFFIR…</td><td>&quot;-1315,323&quot;</td><td>&quot;#FFFFFF&quot;</td></tr><tr><td>&quot;2023-07-25 21:…</td><td>&quot;nzOggGpAz314L/…</td><td>&quot;-756,-5&quot;</td><td>&quot;#FFFFFF&quot;</td></tr><tr><td>&quot;2023-07-25 21:…</td><td>&quot;OxUcrmp+ANYktX…</td><td>&quot;0,0&quot;</td><td>&quot;#FFFFFF&quot;</td></tr><tr><td>&quot;2023-07-25 21:…</td><td>&quot;yYmxpdFt6AsK4P…</td><td>&quot;-569,155&quot;</td><td>&quot;#FFFFFF&quot;</td></tr><tr><td>&quot;2023-07-25 21:…</td><td>&quot;EqmEYG9hPlbDKl…</td><td>&quot;380,-113&quot;</td><td>&quot;#FFFFFF&quot;</td></tr><tr><td>&quot;2023-07-25 21:…</td><td>&quot;5Srg57Txx3SfUy…</td><td>&quot;450,725&quot;</td><td>&quot;#FFFFFF&quot;</td></tr><tr><td>&quot;2023-07-25 21:…</td><td>&quot;uleA/IqcGPQCjh…</td><td>&quot;100,168&quot;</td><td>&quot;#FFFFFF&quot;</td></tr></tbody></table></div>"
      ],
      "text/plain": [
       "shape: (91_062_492, 4)\n",
       "┌─────────────────────────────┬───────────────────────────────────┬────────────┬─────────────┐\n",
       "│ timestamp                   ┆ user                              ┆ coordinate ┆ pixel_color │\n",
       "│ ---                         ┆ ---                               ┆ ---        ┆ ---         │\n",
       "│ str                         ┆ str                               ┆ str        ┆ str         │\n",
       "╞═════════════════════════════╪═══════════════════════════════════╪════════════╪═════════════╡\n",
       "│ 2023-07-20 13:00:26.088 UTC ┆ no+8HEIDjbdx7/LxH9Xr+h4lyoar0MRT… ┆ -199,-235  ┆ #FFFFFF     │\n",
       "│ 2023-07-20 13:00:43.705 UTC ┆ uqi5XwkBePwcPKJgGOxHKzzzXuZKU6iK… ┆ -42,-218   ┆ #FFFFFF     │\n",
       "│ 2023-07-20 13:01:40.445 UTC ┆ 2bmivBNj8NYvnp/15k0EqC+75T1OxTtC… ┆ 182,164    ┆ #FF4500     │\n",
       "│ 2023-07-20 13:01:51.457 UTC ┆ iyPavVpo8ojDYs4NBNrbOVyIgUkpXSWt… ┆ -113,-1    ┆ #FFFFFF     │\n",
       "│ 2023-07-20 13:01:52.149 UTC ┆ a6Q+OsCSRDcPxhxYtOsWmY1eROZ5FGYO… ┆ -64,-34    ┆ #3690EA     │\n",
       "│ …                           ┆ …                                 ┆ …          ┆ …           │\n",
       "│ 2023-07-25 21:38:35.326 UTC ┆ OxUcrmp+ANYktXQhd0k6X4je3rLmweqA… ┆ 0,0        ┆ #FFFFFF     │\n",
       "│ 2023-07-25 21:38:35.386 UTC ┆ yYmxpdFt6AsK4PjAjH9FXmvT0QrtoEV6… ┆ -569,155   ┆ #FFFFFF     │\n",
       "│ 2023-07-25 21:38:35.512 UTC ┆ EqmEYG9hPlbDKld+MtI80M77dG20jHQF… ┆ 380,-113   ┆ #FFFFFF     │\n",
       "│ 2023-07-25 21:38:35.806 UTC ┆ 5Srg57Txx3SfUyasXMga3+CkmnQ1woMc… ┆ 450,725    ┆ #FFFFFF     │\n",
       "│ 2023-07-25 21:38:35.864 UTC ┆ uleA/IqcGPQCjhuqWbG9L3eOwusO8GUy… ┆ 100,168    ┆ #FFFFFF     │\n",
       "└─────────────────────────────┴───────────────────────────────────┴────────────┴─────────────┘"
      ]
     },
     "execution_count": 91,
     "metadata": {},
     "output_type": "execute_result"
    }
   ],
   "source": [
    "df.filter(pl.col('user').is_in(pbs_idx.select(\"user\").collect(streaming=True))).collect(streaming=True)"
   ]
  },
  {
   "cell_type": "code",
   "execution_count": 55,
   "id": "172c2665-868d-4e78-8e14-e733f38d9d58",
   "metadata": {
    "tags": []
   },
   "outputs": [
    {
     "data": {
      "text/html": [
       "<div><style>\n",
       ".dataframe > thead > tr,\n",
       ".dataframe > tbody > tr {\n",
       "  text-align: right;\n",
       "  white-space: pre-wrap;\n",
       "}\n",
       "</style>\n",
       "<small>shape: (1_281_303, 2)</small><table border=\"1\" class=\"dataframe\"><thead><tr><th>user</th><th>count</th></tr><tr><td>str</td><td>u32</td></tr></thead><tbody><tr><td>&quot;kN91vAk/cntIE4…</td><td>7046</td></tr><tr><td>&quot;oCgWHk6Cfsa52v…</td><td>6285</td></tr><tr><td>&quot;/YNNvIErSA5atG…</td><td>5331</td></tr><tr><td>&quot;ay5U7RmL4QAj/p…</td><td>4390</td></tr><tr><td>&quot;bRwFe1qJhazPc7…</td><td>4184</td></tr><tr><td>&quot;tFRL97+0mluUiL…</td><td>4046</td></tr><tr><td>&quot;gAjvJgodeKO2IW…</td><td>3712</td></tr><tr><td>&quot;/XIhfEKO27ngFq…</td><td>3413</td></tr><tr><td>&quot;nNbAayT6hRtQHF…</td><td>3344</td></tr><tr><td>&quot;YuV9dD2Bs8I1RV…</td><td>3156</td></tr><tr><td>&quot;UJgZrjNi8XJ9UB…</td><td>3098</td></tr><tr><td>&quot;/5lNb5qEoYNhil…</td><td>2680</td></tr><tr><td>&hellip;</td><td>&hellip;</td></tr><tr><td>&quot;WXWxs7gBaBGZTJ…</td><td>25</td></tr><tr><td>&quot;+xDW2ZFYh4S+BD…</td><td>25</td></tr><tr><td>&quot;ljdwqfarTX7os7…</td><td>25</td></tr><tr><td>&quot;dEMCZSk8HFiqtw…</td><td>25</td></tr><tr><td>&quot;B+CQeDwJ2YS0wF…</td><td>25</td></tr><tr><td>&quot;rhMBfosUGKYf4d…</td><td>25</td></tr><tr><td>&quot;1l7wCbdR5Me8wB…</td><td>25</td></tr><tr><td>&quot;7/fjyFoV6VkTvn…</td><td>25</td></tr><tr><td>&quot;VIyJlTUSXNrzDr…</td><td>25</td></tr><tr><td>&quot;sOmoBDV3qYSnsC…</td><td>25</td></tr><tr><td>&quot;cZHQeqHC6748di…</td><td>25</td></tr><tr><td>&quot;nC6Io58N6WQ8iZ…</td><td>25</td></tr></tbody></table></div>"
      ],
      "text/plain": [
       "shape: (1_281_303, 2)\n",
       "┌───────────────────────────────────┬───────┐\n",
       "│ user                              ┆ count │\n",
       "│ ---                               ┆ ---   │\n",
       "│ str                               ┆ u32   │\n",
       "╞═══════════════════════════════════╪═══════╡\n",
       "│ kN91vAk/cntIE4qOgH6b06ZWInymLuAe… ┆ 7046  │\n",
       "│ oCgWHk6Cfsa52vAOJBPqBDyKN+OH3Obx… ┆ 6285  │\n",
       "│ /YNNvIErSA5atGXTER7fymCxIY/9xvun… ┆ 5331  │\n",
       "│ ay5U7RmL4QAj/p06ODdMbVh7lc1LqvfZ… ┆ 4390  │\n",
       "│ bRwFe1qJhazPc7ur8S6hK8U0J0iPFVap… ┆ 4184  │\n",
       "│ …                                 ┆ …     │\n",
       "│ 7/fjyFoV6VkTvn9m/q1mIv1IqkkZT/vn… ┆ 25    │\n",
       "│ VIyJlTUSXNrzDre4ItU2XwI7Vlla2iH7… ┆ 25    │\n",
       "│ sOmoBDV3qYSnsCsP3BZGaDjijpJzA3di… ┆ 25    │\n",
       "│ cZHQeqHC6748diyjsjwF3kkoFefllQeM… ┆ 25    │\n",
       "│ nC6Io58N6WQ8iZZ0mgHyoOBMO+AjVo8F… ┆ 25    │\n",
       "└───────────────────────────────────┴───────┘"
      ]
     },
     "execution_count": 55,
     "metadata": {},
     "output_type": "execute_result"
    }
   ],
   "source": [
    "pbs_idx.collect()"
   ]
  }
 ],
 "metadata": {
  "kernelspec": {
   "display_name": "Python 3 (ipykernel)",
   "language": "python",
   "name": "python3"
  },
  "language_info": {
   "codemirror_mode": {
    "name": "ipython",
    "version": 3
   },
   "file_extension": ".py",
   "mimetype": "text/x-python",
   "name": "python",
   "nbconvert_exporter": "python",
   "pygments_lexer": "ipython3",
   "version": "3.11.4"
  }
 },
 "nbformat": 4,
 "nbformat_minor": 5
}
