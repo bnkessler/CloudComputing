{
 "cells": [
  {
   "cell_type": "code",
   "execution_count": 2,
   "id": "037139f2-08b5-4791-8f23-cdfe67bcf28d",
   "metadata": {
    "tags": []
   },
   "outputs": [],
   "source": [
    "# Importing necessary libraries for Parquet\n",
    "import pyarrow.csv as csv\n",
    "import pyarrow.parquet as pq\n",
    "import glob\n",
    "import os\n",
    "import pyarrow as pa\n",
    "from pyarrow import parquet\n",
    "import polars as pl\n",
    "from datetime import datetime"
   ]
  },
  {
   "cell_type": "code",
   "execution_count": 35,
   "id": "8299eef8-9251-4910-9abc-330f37bc69bc",
   "metadata": {
    "collapsed": true,
    "jupyter": {
     "outputs_hidden": true
    },
    "tags": []
   },
   "outputs": [
    {
     "name": "stdout",
     "output_type": "stream",
     "text": [
      "reading /Users/ben/Documents/GitHub/CloudComputing/RedditPlaceData/2023_place_canvas_history-000000000000.csv\n",
      "writing /Users/ben/Documents/GitHub/CloudComputing/RedditPlaceData/2023_place_canvas_history-000000000000.csv\n",
      "reading /Users/ben/Documents/GitHub/CloudComputing/RedditPlaceData/2023_place_canvas_history-000000000001.csv\n",
      "writing /Users/ben/Documents/GitHub/CloudComputing/RedditPlaceData/2023_place_canvas_history-000000000001.csv\n",
      "reading /Users/ben/Documents/GitHub/CloudComputing/RedditPlaceData/2023_place_canvas_history-000000000002.csv\n",
      "writing /Users/ben/Documents/GitHub/CloudComputing/RedditPlaceData/2023_place_canvas_history-000000000002.csv\n",
      "reading /Users/ben/Documents/GitHub/CloudComputing/RedditPlaceData/2023_place_canvas_history-000000000003.csv\n",
      "writing /Users/ben/Documents/GitHub/CloudComputing/RedditPlaceData/2023_place_canvas_history-000000000003.csv\n",
      "reading /Users/ben/Documents/GitHub/CloudComputing/RedditPlaceData/2023_place_canvas_history-000000000004.csv\n",
      "writing /Users/ben/Documents/GitHub/CloudComputing/RedditPlaceData/2023_place_canvas_history-000000000004.csv\n",
      "reading /Users/ben/Documents/GitHub/CloudComputing/RedditPlaceData/2023_place_canvas_history-000000000005.csv\n",
      "writing /Users/ben/Documents/GitHub/CloudComputing/RedditPlaceData/2023_place_canvas_history-000000000005.csv\n",
      "reading /Users/ben/Documents/GitHub/CloudComputing/RedditPlaceData/2023_place_canvas_history-000000000006.csv\n",
      "writing /Users/ben/Documents/GitHub/CloudComputing/RedditPlaceData/2023_place_canvas_history-000000000006.csv\n",
      "reading /Users/ben/Documents/GitHub/CloudComputing/RedditPlaceData/2023_place_canvas_history-000000000007.csv\n",
      "writing /Users/ben/Documents/GitHub/CloudComputing/RedditPlaceData/2023_place_canvas_history-000000000007.csv\n",
      "reading /Users/ben/Documents/GitHub/CloudComputing/RedditPlaceData/2023_place_canvas_history-000000000008.csv\n",
      "writing /Users/ben/Documents/GitHub/CloudComputing/RedditPlaceData/2023_place_canvas_history-000000000008.csv\n",
      "reading /Users/ben/Documents/GitHub/CloudComputing/RedditPlaceData/2023_place_canvas_history-000000000009.csv\n",
      "writing /Users/ben/Documents/GitHub/CloudComputing/RedditPlaceData/2023_place_canvas_history-000000000009.csv\n",
      "reading /Users/ben/Documents/GitHub/CloudComputing/RedditPlaceData/2023_place_canvas_history-000000000010.csv\n",
      "writing /Users/ben/Documents/GitHub/CloudComputing/RedditPlaceData/2023_place_canvas_history-000000000010.csv\n",
      "reading /Users/ben/Documents/GitHub/CloudComputing/RedditPlaceData/2023_place_canvas_history-000000000011.csv\n",
      "writing /Users/ben/Documents/GitHub/CloudComputing/RedditPlaceData/2023_place_canvas_history-000000000011.csv\n",
      "reading /Users/ben/Documents/GitHub/CloudComputing/RedditPlaceData/2023_place_canvas_history-000000000012.csv\n",
      "writing /Users/ben/Documents/GitHub/CloudComputing/RedditPlaceData/2023_place_canvas_history-000000000012.csv\n",
      "reading /Users/ben/Documents/GitHub/CloudComputing/RedditPlaceData/2023_place_canvas_history-000000000013.csv\n",
      "writing /Users/ben/Documents/GitHub/CloudComputing/RedditPlaceData/2023_place_canvas_history-000000000013.csv\n",
      "reading /Users/ben/Documents/GitHub/CloudComputing/RedditPlaceData/2023_place_canvas_history-000000000014.csv\n",
      "writing /Users/ben/Documents/GitHub/CloudComputing/RedditPlaceData/2023_place_canvas_history-000000000014.csv\n",
      "reading /Users/ben/Documents/GitHub/CloudComputing/RedditPlaceData/2023_place_canvas_history-000000000015.csv\n",
      "writing /Users/ben/Documents/GitHub/CloudComputing/RedditPlaceData/2023_place_canvas_history-000000000015.csv\n",
      "reading /Users/ben/Documents/GitHub/CloudComputing/RedditPlaceData/2023_place_canvas_history-000000000016.csv\n",
      "writing /Users/ben/Documents/GitHub/CloudComputing/RedditPlaceData/2023_place_canvas_history-000000000016.csv\n",
      "reading /Users/ben/Documents/GitHub/CloudComputing/RedditPlaceData/2023_place_canvas_history-000000000017.csv\n",
      "writing /Users/ben/Documents/GitHub/CloudComputing/RedditPlaceData/2023_place_canvas_history-000000000017.csv\n",
      "reading /Users/ben/Documents/GitHub/CloudComputing/RedditPlaceData/2023_place_canvas_history-000000000018.csv\n",
      "writing /Users/ben/Documents/GitHub/CloudComputing/RedditPlaceData/2023_place_canvas_history-000000000018.csv\n",
      "reading /Users/ben/Documents/GitHub/CloudComputing/RedditPlaceData/2023_place_canvas_history-000000000019.csv\n",
      "writing /Users/ben/Documents/GitHub/CloudComputing/RedditPlaceData/2023_place_canvas_history-000000000019.csv\n",
      "reading /Users/ben/Documents/GitHub/CloudComputing/RedditPlaceData/2023_place_canvas_history-000000000020.csv\n",
      "writing /Users/ben/Documents/GitHub/CloudComputing/RedditPlaceData/2023_place_canvas_history-000000000020.csv\n",
      "reading /Users/ben/Documents/GitHub/CloudComputing/RedditPlaceData/2023_place_canvas_history-000000000021.csv\n",
      "writing /Users/ben/Documents/GitHub/CloudComputing/RedditPlaceData/2023_place_canvas_history-000000000021.csv\n",
      "reading /Users/ben/Documents/GitHub/CloudComputing/RedditPlaceData/2023_place_canvas_history-000000000022.csv\n",
      "writing /Users/ben/Documents/GitHub/CloudComputing/RedditPlaceData/2023_place_canvas_history-000000000022.csv\n",
      "reading /Users/ben/Documents/GitHub/CloudComputing/RedditPlaceData/2023_place_canvas_history-000000000023.csv\n",
      "writing /Users/ben/Documents/GitHub/CloudComputing/RedditPlaceData/2023_place_canvas_history-000000000023.csv\n",
      "reading /Users/ben/Documents/GitHub/CloudComputing/RedditPlaceData/2023_place_canvas_history-000000000024.csv\n",
      "writing /Users/ben/Documents/GitHub/CloudComputing/RedditPlaceData/2023_place_canvas_history-000000000024.csv\n",
      "reading /Users/ben/Documents/GitHub/CloudComputing/RedditPlaceData/2023_place_canvas_history-000000000025.csv\n",
      "writing /Users/ben/Documents/GitHub/CloudComputing/RedditPlaceData/2023_place_canvas_history-000000000025.csv\n",
      "reading /Users/ben/Documents/GitHub/CloudComputing/RedditPlaceData/2023_place_canvas_history-000000000026.csv\n",
      "writing /Users/ben/Documents/GitHub/CloudComputing/RedditPlaceData/2023_place_canvas_history-000000000026.csv\n",
      "reading /Users/ben/Documents/GitHub/CloudComputing/RedditPlaceData/2023_place_canvas_history-000000000027.csv\n",
      "writing /Users/ben/Documents/GitHub/CloudComputing/RedditPlaceData/2023_place_canvas_history-000000000027.csv\n",
      "reading /Users/ben/Documents/GitHub/CloudComputing/RedditPlaceData/2023_place_canvas_history-000000000028.csv\n",
      "writing /Users/ben/Documents/GitHub/CloudComputing/RedditPlaceData/2023_place_canvas_history-000000000028.csv\n",
      "reading /Users/ben/Documents/GitHub/CloudComputing/RedditPlaceData/2023_place_canvas_history-000000000029.csv\n",
      "writing /Users/ben/Documents/GitHub/CloudComputing/RedditPlaceData/2023_place_canvas_history-000000000029.csv\n",
      "reading /Users/ben/Documents/GitHub/CloudComputing/RedditPlaceData/2023_place_canvas_history-000000000030.csv\n",
      "writing /Users/ben/Documents/GitHub/CloudComputing/RedditPlaceData/2023_place_canvas_history-000000000030.csv\n",
      "reading /Users/ben/Documents/GitHub/CloudComputing/RedditPlaceData/2023_place_canvas_history-000000000031.csv\n",
      "writing /Users/ben/Documents/GitHub/CloudComputing/RedditPlaceData/2023_place_canvas_history-000000000031.csv\n",
      "reading /Users/ben/Documents/GitHub/CloudComputing/RedditPlaceData/2023_place_canvas_history-000000000032.csv\n",
      "writing /Users/ben/Documents/GitHub/CloudComputing/RedditPlaceData/2023_place_canvas_history-000000000032.csv\n",
      "reading /Users/ben/Documents/GitHub/CloudComputing/RedditPlaceData/2023_place_canvas_history-000000000033.csv\n",
      "writing /Users/ben/Documents/GitHub/CloudComputing/RedditPlaceData/2023_place_canvas_history-000000000033.csv\n",
      "reading /Users/ben/Documents/GitHub/CloudComputing/RedditPlaceData/2023_place_canvas_history-000000000035.csv\n",
      "writing /Users/ben/Documents/GitHub/CloudComputing/RedditPlaceData/2023_place_canvas_history-000000000035.csv\n",
      "reading /Users/ben/Documents/GitHub/CloudComputing/RedditPlaceData/2023_place_canvas_history-000000000036.csv\n",
      "writing /Users/ben/Documents/GitHub/CloudComputing/RedditPlaceData/2023_place_canvas_history-000000000036.csv\n",
      "reading /Users/ben/Documents/GitHub/CloudComputing/RedditPlaceData/2023_place_canvas_history-000000000037.csv\n",
      "writing /Users/ben/Documents/GitHub/CloudComputing/RedditPlaceData/2023_place_canvas_history-000000000037.csv\n",
      "reading /Users/ben/Documents/GitHub/CloudComputing/RedditPlaceData/2023_place_canvas_history-000000000038.csv\n",
      "writing /Users/ben/Documents/GitHub/CloudComputing/RedditPlaceData/2023_place_canvas_history-000000000038.csv\n",
      "reading /Users/ben/Documents/GitHub/CloudComputing/RedditPlaceData/2023_place_canvas_history-000000000039.csv\n",
      "writing /Users/ben/Documents/GitHub/CloudComputing/RedditPlaceData/2023_place_canvas_history-000000000039.csv\n",
      "reading /Users/ben/Documents/GitHub/CloudComputing/RedditPlaceData/2023_place_canvas_history-000000000040.csv\n",
      "writing /Users/ben/Documents/GitHub/CloudComputing/RedditPlaceData/2023_place_canvas_history-000000000040.csv\n",
      "reading /Users/ben/Documents/GitHub/CloudComputing/RedditPlaceData/2023_place_canvas_history-000000000041.csv\n",
      "writing /Users/ben/Documents/GitHub/CloudComputing/RedditPlaceData/2023_place_canvas_history-000000000041.csv\n",
      "reading /Users/ben/Documents/GitHub/CloudComputing/RedditPlaceData/2023_place_canvas_history-000000000042.csv\n",
      "writing /Users/ben/Documents/GitHub/CloudComputing/RedditPlaceData/2023_place_canvas_history-000000000042.csv\n",
      "reading /Users/ben/Documents/GitHub/CloudComputing/RedditPlaceData/2023_place_canvas_history-000000000043.csv\n",
      "writing /Users/ben/Documents/GitHub/CloudComputing/RedditPlaceData/2023_place_canvas_history-000000000043.csv\n",
      "reading /Users/ben/Documents/GitHub/CloudComputing/RedditPlaceData/2023_place_canvas_history-000000000044.csv\n",
      "writing /Users/ben/Documents/GitHub/CloudComputing/RedditPlaceData/2023_place_canvas_history-000000000044.csv\n",
      "reading /Users/ben/Documents/GitHub/CloudComputing/RedditPlaceData/2023_place_canvas_history-000000000045.csv\n",
      "writing /Users/ben/Documents/GitHub/CloudComputing/RedditPlaceData/2023_place_canvas_history-000000000045.csv\n",
      "reading /Users/ben/Documents/GitHub/CloudComputing/RedditPlaceData/2023_place_canvas_history-000000000046.csv\n",
      "writing /Users/ben/Documents/GitHub/CloudComputing/RedditPlaceData/2023_place_canvas_history-000000000046.csv\n",
      "reading /Users/ben/Documents/GitHub/CloudComputing/RedditPlaceData/2023_place_canvas_history-000000000047.csv\n",
      "writing /Users/ben/Documents/GitHub/CloudComputing/RedditPlaceData/2023_place_canvas_history-000000000047.csv\n",
      "reading /Users/ben/Documents/GitHub/CloudComputing/RedditPlaceData/2023_place_canvas_history-000000000048.csv\n",
      "writing /Users/ben/Documents/GitHub/CloudComputing/RedditPlaceData/2023_place_canvas_history-000000000048.csv\n",
      "reading /Users/ben/Documents/GitHub/CloudComputing/RedditPlaceData/2023_place_canvas_history-000000000049.csv\n",
      "writing /Users/ben/Documents/GitHub/CloudComputing/RedditPlaceData/2023_place_canvas_history-000000000049.csv\n",
      "reading /Users/ben/Documents/GitHub/CloudComputing/RedditPlaceData/2023_place_canvas_history-000000000050.csv\n",
      "writing /Users/ben/Documents/GitHub/CloudComputing/RedditPlaceData/2023_place_canvas_history-000000000050.csv\n",
      "reading /Users/ben/Documents/GitHub/CloudComputing/RedditPlaceData/2023_place_canvas_history-000000000051.csv\n",
      "writing /Users/ben/Documents/GitHub/CloudComputing/RedditPlaceData/2023_place_canvas_history-000000000051.csv\n",
      "reading /Users/ben/Documents/GitHub/CloudComputing/RedditPlaceData/2023_place_canvas_history-000000000052.csv\n",
      "writing /Users/ben/Documents/GitHub/CloudComputing/RedditPlaceData/2023_place_canvas_history-000000000052.csv\n",
      "Combined CSVs to combined_place_data.parquet\n"
     ]
    }
   ],
   "source": [
    "# Providing folder path\n",
    "folder_path = \"/Users/ben/Documents/GitHub/CloudComputing/RedditPlaceData/\"\n",
    "\n",
    "# Partquet file name\n",
    "parquet_file = \"combined_place_data.parquet\"\n",
    "\n",
    "# Getting csv_file names\n",
    "csv_files = glob.glob(os.path.join(folder_path, '**/*.csv'), recursive=True)\n",
    "\n",
    "# Create Schema\n",
    "schema = pa.schema([\n",
    "    pa.field(\"timestamp\", pa.string()),\n",
    "    pa.field(\"user\", pa.string()),\n",
    "    pa.field(\"coordinate\", pa.string()),\n",
    "    pa.field(\"pixel_color\", pa.string())\n",
    "])\n",
    "\n",
    "# Initializing writer\n",
    "writer = parquet.ParquetWriter(parquet_file, schema, compression='snappy')\n",
    "\n",
    "# Iterating through csv files\n",
    "for file in sorted(csv_files):\n",
    "    \n",
    "    print(\"reading\", file)\n",
    "    table = csv.read_csv(file)\n",
    "    # Casting table to schema\n",
    "    table = table.cast(schema)\n",
    "\n",
    "    print(\"writing\", file)\n",
    "    writer.write_table(table)\n",
    "    \n",
    "if writer:\n",
    "    writer.close()\n",
    "    \n",
    "print(f\"Combined CSVs to {parquet_file}\")"
   ]
  },
  {
   "cell_type": "code",
   "execution_count": 2,
   "id": "486159b3-bfa2-41d6-a5d9-c1069feafde4",
   "metadata": {
    "tags": []
   },
   "outputs": [],
   "source": [
    "test_file = pq.ParquetFile(\"/Users/ben/Documents/GitHub/CloudComputing/combined_place_data.parquet\")"
   ]
  },
  {
   "cell_type": "code",
   "execution_count": 3,
   "id": "46981d76-2fd3-46e5-81b4-417b24b229e4",
   "metadata": {
    "tags": []
   },
   "outputs": [
    {
     "name": "stdout",
     "output_type": "stream",
     "text": [
      "Number of entries (rows) in the Parquet file: 129,788,513\n"
     ]
    }
   ],
   "source": [
    "print(f\"Number of entries (rows) in the Parquet file: {test_file.metadata.num_rows:,d}\")"
   ]
  },
  {
   "cell_type": "code",
   "execution_count": 3,
   "id": "d1815d49-ebfb-4db2-bab2-f838bcc607bc",
   "metadata": {
    "tags": []
   },
   "outputs": [],
   "source": [
    "def parse_coordinate(coordinate):\n",
    "    if len(coordinate) < 20:\n",
    "        return coordinate\n",
    "    else:\n",
    "        coordinate = coordinate.replace(\" \", \"\").replace(\":\", \",\").split(\",\")\n",
    "        x = coordinate[1]\n",
    "        y = coordinate[3]\n",
    "        return f\"{x}\" + \",\" + f\"{y}\""
   ]
  },
  {
   "cell_type": "code",
   "execution_count": 4,
   "id": "10df837b-2883-42d4-a732-f890e96250dc",
   "metadata": {
    "tags": []
   },
   "outputs": [
    {
     "name": "stdout",
     "output_type": "stream",
     "text": [
      "Read parquet and cast datetime\n"
     ]
    }
   ],
   "source": [
    "print(\"Read parquet and cast datetime\")\n",
    "# Read the Parquet file\n",
    "df = pl.scan_parquet('combined_place_data.parquet')\n",
    "df = df.with_columns(pl.col(\"timestamp\").str.strptime(pl.Datetime, '%Y-%m-%d %H:%M:%S%.f %Z').cast(pl.Datetime, strict=False))\n",
    "df = df.with_columns(\n",
    "    pl.col('coordinate').map_elements(parse_coordinate, return_dtype=pl.Object)\n",
    ")\n",
    "df = df.with_columns([\n",
    "    pl.col('coordinate').map_elements(lambda x: int(x.split(\",\")[0]), return_dtype=pl.Int32).alias('x'),\n",
    "    pl.col('coordinate').map_elements(lambda x: int(x.split(\",\")[1]), return_dtype=pl.Int32).alias('y')\n",
    "])"
   ]
  },
  {
   "cell_type": "code",
   "execution_count": 32,
   "id": "9758b4ad-c654-4ea4-a88a-9cbf801c95dc",
   "metadata": {
    "tags": []
   },
   "outputs": [
    {
     "data": {
      "text/html": [
       "<div><style>\n",
       ".dataframe > thead > tr,\n",
       ".dataframe > tbody > tr {\n",
       "  text-align: right;\n",
       "  white-space: pre-wrap;\n",
       "}\n",
       "</style>\n",
       "<small>shape: (10, 6)</small><table border=\"1\" class=\"dataframe\"><thead><tr><th>timestamp</th><th>user</th><th>coordinate</th><th>pixel_color</th><th>x</th><th>y</th></tr><tr><td>datetime[μs]</td><td>str</td><td>object</td><td>str</td><td>i32</td><td>i32</td></tr></thead><tbody><tr><td>2023-07-20 13:00:26.088</td><td>&quot;no+8HEIDjbdx7/…</td><td>-199,-235</td><td>&quot;#FFFFFF&quot;</td><td>-199</td><td>-235</td></tr><tr><td>2023-07-20 13:00:43.658</td><td>&quot;qJ7O6cuUNfkDyn…</td><td>0,-298</td><td>&quot;#FF4500&quot;</td><td>0</td><td>-298</td></tr><tr><td>2023-07-20 13:00:43.705</td><td>&quot;uqi5XwkBePwcPK…</td><td>-42,-218</td><td>&quot;#FFFFFF&quot;</td><td>-42</td><td>-218</td></tr><tr><td>2023-07-20 13:01:02.487</td><td>&quot;rgSTj7FHZUHsLX…</td><td>-418,-232</td><td>&quot;#B44AC0&quot;</td><td>-418</td><td>-232</td></tr><tr><td>2023-07-20 13:01:40.445</td><td>&quot;2bmivBNj8NYvnp…</td><td>182,164</td><td>&quot;#FF4500&quot;</td><td>182</td><td>164</td></tr><tr><td>2023-07-20 13:01:51.457</td><td>&quot;iyPavVpo8ojDYs…</td><td>-113,-1</td><td>&quot;#FFFFFF&quot;</td><td>-113</td><td>-1</td></tr><tr><td>2023-07-20 13:01:52.149</td><td>&quot;a6Q+OsCSRDcPxh…</td><td>-64,-34</td><td>&quot;#3690EA&quot;</td><td>-64</td><td>-34</td></tr><tr><td>2023-07-20 13:01:57.333</td><td>&quot;AS0KN9rxoynWuN…</td><td>-267,-142</td><td>&quot;#FFFFFF&quot;</td><td>-267</td><td>-142</td></tr><tr><td>2023-07-20 13:02:14.260</td><td>&quot;aWwqNqt6Ydlvny…</td><td>-43,52</td><td>&quot;#00A368&quot;</td><td>-43</td><td>52</td></tr><tr><td>2023-07-20 13:03:42.173</td><td>&quot;vFCy3asEWbBER9…</td><td>-43,74</td><td>&quot;#000000&quot;</td><td>-43</td><td>74</td></tr></tbody></table></div>"
      ],
      "text/plain": [
       "shape: (10, 6)\n",
       "┌─────────────────────────┬───────────────────────────────┬────────────┬─────────────┬──────┬──────┐\n",
       "│ timestamp               ┆ user                          ┆ coordinate ┆ pixel_color ┆ x    ┆ y    │\n",
       "│ ---                     ┆ ---                           ┆ ---        ┆ ---         ┆ ---  ┆ ---  │\n",
       "│ datetime[μs]            ┆ str                           ┆ object     ┆ str         ┆ i32  ┆ i32  │\n",
       "╞═════════════════════════╪═══════════════════════════════╪════════════╪═════════════╪══════╪══════╡\n",
       "│ 2023-07-20 13:00:26.088 ┆ no+8HEIDjbdx7/LxH9Xr+h4lyoar0 ┆ -199,-235  ┆ #FFFFFF     ┆ -199 ┆ -235 │\n",
       "│                         ┆ MRT…                          ┆            ┆             ┆      ┆      │\n",
       "│ 2023-07-20 13:00:43.658 ┆ qJ7O6cuUNfkDyn+ZOEYR+UiVEmAu/ ┆ 0,-298     ┆ #FF4500     ┆ 0    ┆ -298 │\n",
       "│                         ┆ vYf…                          ┆            ┆             ┆      ┆      │\n",
       "│ 2023-07-20 13:00:43.705 ┆ uqi5XwkBePwcPKJgGOxHKzzzXuZKU ┆ -42,-218   ┆ #FFFFFF     ┆ -42  ┆ -218 │\n",
       "│                         ┆ 6iK…                          ┆            ┆             ┆      ┆      │\n",
       "│ 2023-07-20 13:01:02.487 ┆ rgSTj7FHZUHsLXZLLNj9+vxibHIow ┆ -418,-232  ┆ #B44AC0     ┆ -418 ┆ -232 │\n",
       "│                         ┆ b2+…                          ┆            ┆             ┆      ┆      │\n",
       "│ 2023-07-20 13:01:40.445 ┆ 2bmivBNj8NYvnp/15k0EqC+75T1Ox ┆ 182,164    ┆ #FF4500     ┆ 182  ┆ 164  │\n",
       "│                         ┆ TtC…                          ┆            ┆             ┆      ┆      │\n",
       "│ 2023-07-20 13:01:51.457 ┆ iyPavVpo8ojDYs4NBNrbOVyIgUkpX ┆ -113,-1    ┆ #FFFFFF     ┆ -113 ┆ -1   │\n",
       "│                         ┆ SWt…                          ┆            ┆             ┆      ┆      │\n",
       "│ 2023-07-20 13:01:52.149 ┆ a6Q+OsCSRDcPxhxYtOsWmY1eROZ5F ┆ -64,-34    ┆ #3690EA     ┆ -64  ┆ -34  │\n",
       "│                         ┆ GYO…                          ┆            ┆             ┆      ┆      │\n",
       "│ 2023-07-20 13:01:57.333 ┆ AS0KN9rxoynWuNZWvX3Aaqv9UwZFk ┆ -267,-142  ┆ #FFFFFF     ┆ -267 ┆ -142 │\n",
       "│                         ┆ Lhq…                          ┆            ┆             ┆      ┆      │\n",
       "│ 2023-07-20 13:02:14.260 ┆ aWwqNqt6YdlvnygRgoEovZgf0GgBe ┆ -43,52     ┆ #00A368     ┆ -43  ┆ 52   │\n",
       "│                         ┆ pj6…                          ┆            ┆             ┆      ┆      │\n",
       "│ 2023-07-20 13:03:42.173 ┆ vFCy3asEWbBER9NYcILtUCB+KYxRW ┆ -43,74     ┆ #000000     ┆ -43  ┆ 74   │\n",
       "│                         ┆ IGM…                          ┆            ┆             ┆      ┆      │\n",
       "└─────────────────────────┴───────────────────────────────┴────────────┴─────────────┴──────┴──────┘"
      ]
     },
     "execution_count": 32,
     "metadata": {},
     "output_type": "execute_result"
    }
   ],
   "source": [
    "df.head(10).collect(streaming=True)"
   ]
  },
  {
   "cell_type": "code",
   "execution_count": 8,
   "id": "4024ea19-411d-447e-8601-326417f51fe2",
   "metadata": {
    "tags": []
   },
   "outputs": [],
   "source": [
    "value_counts = df.select(\"user\").group_by(\"user\").agg(pl.col('user').count().alias('count')).sort('count', descending=True)\n",
    "value_counts = value_counts.with_columns(pl.col(\"count\").cast(int))"
   ]
  },
  {
   "cell_type": "code",
   "execution_count": 14,
   "id": "ec659cc3-f555-4a02-8fa1-c80518ce46d7",
   "metadata": {
    "tags": []
   },
   "outputs": [
    {
     "data": {
      "text/html": [
       "<div><style>\n",
       ".dataframe > thead > tr,\n",
       ".dataframe > tbody > tr {\n",
       "  text-align: right;\n",
       "  white-space: pre-wrap;\n",
       "}\n",
       "</style>\n",
       "<small>shape: (1, 1)</small><table border=\"1\" class=\"dataframe\"><thead><tr><th>count</th></tr><tr><td>f64</td></tr></thead><tbody><tr><td>37.0</td></tr></tbody></table></div>"
      ],
      "text/plain": [
       "shape: (1, 1)\n",
       "┌───────┐\n",
       "│ count │\n",
       "│ ---   │\n",
       "│ f64   │\n",
       "╞═══════╡\n",
       "│ 37.0  │\n",
       "└───────┘"
      ]
     },
     "execution_count": 14,
     "metadata": {},
     "output_type": "execute_result"
    }
   ],
   "source": [
    "value_counts.select(\"count\").quantile(quantile=.90).collect(streaming = True)"
   ]
  },
  {
   "cell_type": "code",
   "execution_count": 15,
   "id": "d06e77a4-0a03-4196-8d97-9d1a59204d56",
   "metadata": {
    "tags": []
   },
   "outputs": [],
   "source": [
    "pbs_idx = value_counts.filter(pl.col(\"count\") >= 37)"
   ]
  },
  {
   "cell_type": "code",
   "execution_count": 16,
   "id": "87d48c58-22d4-4260-bda0-88d41aee8cf7",
   "metadata": {
    "tags": []
   },
   "outputs": [],
   "source": [
    "pixels_placed = df.filter(pl.col('user').is_in(pbs_idx.select(\"user\").collect(streaming=True)))"
   ]
  },
  {
   "cell_type": "code",
   "execution_count": 17,
   "id": "85c6dd89-f69e-4713-b522-2048cdc0b64c",
   "metadata": {
    "tags": []
   },
   "outputs": [
    {
     "data": {
      "text/html": [
       "<div><style>\n",
       ".dataframe > thead > tr,\n",
       ".dataframe > tbody > tr {\n",
       "  text-align: right;\n",
       "  white-space: pre-wrap;\n",
       "}\n",
       "</style>\n",
       "<small>shape: (78_350_994, 4)</small><table border=\"1\" class=\"dataframe\"><thead><tr><th>timestamp</th><th>user</th><th>coordinate</th><th>pixel_color</th></tr><tr><td>datetime[μs]</td><td>str</td><td>str</td><td>str</td></tr></thead><tbody><tr><td>2023-07-20 13:00:43.705</td><td>&quot;uqi5XwkBePwcPK…</td><td>&quot;-42,-218&quot;</td><td>&quot;#FFFFFF&quot;</td></tr><tr><td>2023-07-20 13:01:40.445</td><td>&quot;2bmivBNj8NYvnp…</td><td>&quot;182,164&quot;</td><td>&quot;#FF4500&quot;</td></tr><tr><td>2023-07-20 13:01:51.457</td><td>&quot;iyPavVpo8ojDYs…</td><td>&quot;-113,-1&quot;</td><td>&quot;#FFFFFF&quot;</td></tr><tr><td>2023-07-20 13:01:52.149</td><td>&quot;a6Q+OsCSRDcPxh…</td><td>&quot;-64,-34&quot;</td><td>&quot;#3690EA&quot;</td></tr><tr><td>2023-07-20 13:03:42.173</td><td>&quot;vFCy3asEWbBER9…</td><td>&quot;-43,74&quot;</td><td>&quot;#000000&quot;</td></tr><tr><td>2023-07-20 13:04:03.685</td><td>&quot;rkTj/gktE+fk1u…</td><td>&quot;-279,242&quot;</td><td>&quot;#000000&quot;</td></tr><tr><td>2023-07-20 13:04:17.971</td><td>&quot;sxYEVPfaohJYIY…</td><td>&quot;60,-65&quot;</td><td>&quot;#000000&quot;</td></tr><tr><td>2023-07-20 13:04:38.197</td><td>&quot;ywG7MbcHONF6gs…</td><td>&quot;-32,263&quot;</td><td>&quot;#B44AC0&quot;</td></tr><tr><td>2023-07-20 13:04:39.757</td><td>&quot;FdP9nI9ZB1x8f0…</td><td>&quot;-62,280&quot;</td><td>&quot;#000000&quot;</td></tr><tr><td>2023-07-20 13:04:41.115</td><td>&quot;Sp4flue6oel2cw…</td><td>&quot;-143,266&quot;</td><td>&quot;#000000&quot;</td></tr><tr><td>2023-07-20 13:04:41.721</td><td>&quot;p1mbVdUg3S5DHQ…</td><td>&quot;-227,-491&quot;</td><td>&quot;#000000&quot;</td></tr><tr><td>2023-07-20 13:04:42.114</td><td>&quot;gZXBp2Ss2n29Ua…</td><td>&quot;-464,68&quot;</td><td>&quot;#3690EA&quot;</td></tr><tr><td>&hellip;</td><td>&hellip;</td><td>&hellip;</td><td>&hellip;</td></tr><tr><td>2023-07-25 21:38:35.032</td><td>&quot;eJkwKtGeYiCatY…</td><td>&quot;96,-896&quot;</td><td>&quot;#FFFFFF&quot;</td></tr><tr><td>2023-07-25 21:38:35.169</td><td>&quot;Nw6WXqAba2D1lD…</td><td>&quot;8,7&quot;</td><td>&quot;#FFFFFF&quot;</td></tr><tr><td>2023-07-25 21:38:35.169</td><td>&quot;s1HVsldottSygU…</td><td>&quot;-608,-348&quot;</td><td>&quot;#FFFFFF&quot;</td></tr><tr><td>2023-07-25 21:38:35.206</td><td>&quot;fo1itKpVnXgEvL…</td><td>&quot;88,88&quot;</td><td>&quot;#FFFFFF&quot;</td></tr><tr><td>2023-07-25 21:38:35.206</td><td>&quot;GMQ99ZkyORtrmR…</td><td>&quot;0,6&quot;</td><td>&quot;#FFFFFF&quot;</td></tr><tr><td>2023-07-25 21:38:35.206</td><td>&quot;A2p+RUPhNjFFIR…</td><td>&quot;-1315,323&quot;</td><td>&quot;#FFFFFF&quot;</td></tr><tr><td>2023-07-25 21:38:35.326</td><td>&quot;nzOggGpAz314L/…</td><td>&quot;-756,-5&quot;</td><td>&quot;#FFFFFF&quot;</td></tr><tr><td>2023-07-25 21:38:35.326</td><td>&quot;OxUcrmp+ANYktX…</td><td>&quot;0,0&quot;</td><td>&quot;#FFFFFF&quot;</td></tr><tr><td>2023-07-25 21:38:35.386</td><td>&quot;yYmxpdFt6AsK4P…</td><td>&quot;-569,155&quot;</td><td>&quot;#FFFFFF&quot;</td></tr><tr><td>2023-07-25 21:38:35.512</td><td>&quot;EqmEYG9hPlbDKl…</td><td>&quot;380,-113&quot;</td><td>&quot;#FFFFFF&quot;</td></tr><tr><td>2023-07-25 21:38:35.806</td><td>&quot;5Srg57Txx3SfUy…</td><td>&quot;450,725&quot;</td><td>&quot;#FFFFFF&quot;</td></tr><tr><td>2023-07-25 21:38:35.864</td><td>&quot;uleA/IqcGPQCjh…</td><td>&quot;100,168&quot;</td><td>&quot;#FFFFFF&quot;</td></tr></tbody></table></div>"
      ],
      "text/plain": [
       "shape: (78_350_994, 4)\n",
       "┌─────────────────────────┬───────────────────────────────────┬────────────┬─────────────┐\n",
       "│ timestamp               ┆ user                              ┆ coordinate ┆ pixel_color │\n",
       "│ ---                     ┆ ---                               ┆ ---        ┆ ---         │\n",
       "│ datetime[μs]            ┆ str                               ┆ str        ┆ str         │\n",
       "╞═════════════════════════╪═══════════════════════════════════╪════════════╪═════════════╡\n",
       "│ 2023-07-20 13:00:43.705 ┆ uqi5XwkBePwcPKJgGOxHKzzzXuZKU6iK… ┆ -42,-218   ┆ #FFFFFF     │\n",
       "│ 2023-07-20 13:01:40.445 ┆ 2bmivBNj8NYvnp/15k0EqC+75T1OxTtC… ┆ 182,164    ┆ #FF4500     │\n",
       "│ 2023-07-20 13:01:51.457 ┆ iyPavVpo8ojDYs4NBNrbOVyIgUkpXSWt… ┆ -113,-1    ┆ #FFFFFF     │\n",
       "│ 2023-07-20 13:01:52.149 ┆ a6Q+OsCSRDcPxhxYtOsWmY1eROZ5FGYO… ┆ -64,-34    ┆ #3690EA     │\n",
       "│ 2023-07-20 13:03:42.173 ┆ vFCy3asEWbBER9NYcILtUCB+KYxRWIGM… ┆ -43,74     ┆ #000000     │\n",
       "│ …                       ┆ …                                 ┆ …          ┆ …           │\n",
       "│ 2023-07-25 21:38:35.326 ┆ OxUcrmp+ANYktXQhd0k6X4je3rLmweqA… ┆ 0,0        ┆ #FFFFFF     │\n",
       "│ 2023-07-25 21:38:35.386 ┆ yYmxpdFt6AsK4PjAjH9FXmvT0QrtoEV6… ┆ -569,155   ┆ #FFFFFF     │\n",
       "│ 2023-07-25 21:38:35.512 ┆ EqmEYG9hPlbDKld+MtI80M77dG20jHQF… ┆ 380,-113   ┆ #FFFFFF     │\n",
       "│ 2023-07-25 21:38:35.806 ┆ 5Srg57Txx3SfUyasXMga3+CkmnQ1woMc… ┆ 450,725    ┆ #FFFFFF     │\n",
       "│ 2023-07-25 21:38:35.864 ┆ uleA/IqcGPQCjhuqWbG9L3eOwusO8GUy… ┆ 100,168    ┆ #FFFFFF     │\n",
       "└─────────────────────────┴───────────────────────────────────┴────────────┴─────────────┘"
      ]
     },
     "execution_count": 17,
     "metadata": {},
     "output_type": "execute_result"
    }
   ],
   "source": [
    "pixels_placed.collect(streaming=True)"
   ]
  },
  {
   "cell_type": "code",
   "execution_count": 14,
   "id": "14f49638-8003-45f5-9ce3-d2b74caba6cd",
   "metadata": {
    "tags": []
   },
   "outputs": [
    {
     "data": {
      "text/html": [
       "<div><style>\n",
       ".dataframe > thead > tr,\n",
       ".dataframe > tbody > tr {\n",
       "  text-align: right;\n",
       "  white-space: pre-wrap;\n",
       "}\n",
       "</style>\n",
       "<small>shape: (100, 2)</small><table border=\"1\" class=\"dataframe\"><thead><tr><th>user</th><th>len</th></tr><tr><td>str</td><td>u32</td></tr></thead><tbody><tr><td>&quot;8TrEI3PjtTA6rw…</td><td>1</td></tr><tr><td>&quot;HcrRBg4NZ+z333…</td><td>1</td></tr><tr><td>&quot;NrIs+gX+RYLnGS…</td><td>1</td></tr><tr><td>&quot;tIVX6MIPYuSnNN…</td><td>1</td></tr><tr><td>&quot;qJ7O6cuUNfkDyn…</td><td>1</td></tr><tr><td>&quot;VwROKxPV4+9TJE…</td><td>1</td></tr><tr><td>&quot;KF9Im+7IBADey5…</td><td>1</td></tr><tr><td>&quot;Eo/c2yPDrI95KW…</td><td>1</td></tr><tr><td>&quot;Iit2cSmPiHNisr…</td><td>1</td></tr><tr><td>&quot;GYS1Xvq9COtA8R…</td><td>1</td></tr><tr><td>&quot;YF56mQAiwsAJZW…</td><td>1</td></tr><tr><td>&quot;vFCy3asEWbBER9…</td><td>1</td></tr><tr><td>&hellip;</td><td>&hellip;</td></tr><tr><td>&quot;uUkg9NHbvUL2d4…</td><td>1</td></tr><tr><td>&quot;Us+dJfNuOpXhCb…</td><td>1</td></tr><tr><td>&quot;2I/fGSoMWx3mWD…</td><td>1</td></tr><tr><td>&quot;ILuHXClHunLWM+…</td><td>1</td></tr><tr><td>&quot;TAnp20QFA7LE5s…</td><td>1</td></tr><tr><td>&quot;Y5YL8SB8NFqZvE…</td><td>1</td></tr><tr><td>&quot;+xFqg3x0Fd0sKI…</td><td>1</td></tr><tr><td>&quot;OliFXK03g6C/dI…</td><td>1</td></tr><tr><td>&quot;PqgZcFScMFenOa…</td><td>1</td></tr><tr><td>&quot;jsKeonyHhATTck…</td><td>1</td></tr><tr><td>&quot;rkTj/gktE+fk1u…</td><td>1</td></tr><tr><td>&quot;SHxvfYVGCz1dzq…</td><td>1</td></tr></tbody></table></div>"
      ],
      "text/plain": [
       "shape: (100, 2)\n",
       "┌───────────────────────────────────┬─────┐\n",
       "│ user                              ┆ len │\n",
       "│ ---                               ┆ --- │\n",
       "│ str                               ┆ u32 │\n",
       "╞═══════════════════════════════════╪═════╡\n",
       "│ 8TrEI3PjtTA6rwgWaV2I5CwHEag0dyba… ┆ 1   │\n",
       "│ HcrRBg4NZ+z333sC5D4eOjPZPLh7QlbB… ┆ 1   │\n",
       "│ NrIs+gX+RYLnGSWZit29NNj4mlp4OW5s… ┆ 1   │\n",
       "│ tIVX6MIPYuSnNNj5CMsGuF4baJ+daJFn… ┆ 1   │\n",
       "│ qJ7O6cuUNfkDyn+ZOEYR+UiVEmAu/vYf… ┆ 1   │\n",
       "│ …                                 ┆ …   │\n",
       "│ OliFXK03g6C/dIlK8W22QblkEC+CraYI… ┆ 1   │\n",
       "│ PqgZcFScMFenOaK0u65VguOvcScAqXYJ… ┆ 1   │\n",
       "│ jsKeonyHhATTckKy4PsUOHLSTgHshrQj… ┆ 1   │\n",
       "│ rkTj/gktE+fk1uA6g8xGWV7L3Tykc14W… ┆ 1   │\n",
       "│ SHxvfYVGCz1dzqh21bonWxMt0b4xK78W… ┆ 1   │\n",
       "└───────────────────────────────────┴─────┘"
      ]
     },
     "execution_count": 14,
     "metadata": {},
     "output_type": "execute_result"
    }
   ],
   "source": [
    "df.head(100).group_by(\"user\").len().collect(streaming=True)"
   ]
  },
  {
   "cell_type": "code",
   "execution_count": 15,
   "id": "5d5107d1-d5cd-4f67-a001-54238ea2d82f",
   "metadata": {
    "tags": []
   },
   "outputs": [
    {
     "data": {
      "text/html": [
       "<div><style>\n",
       ".dataframe > thead > tr,\n",
       ".dataframe > tbody > tr {\n",
       "  text-align: right;\n",
       "  white-space: pre-wrap;\n",
       "}\n",
       "</style>\n",
       "<small>shape: (10, 2)</small><table border=\"1\" class=\"dataframe\"><thead><tr><th>user</th><th>place_count</th></tr><tr><td>str</td><td>u32</td></tr></thead><tbody><tr><td>&quot;AS0KN9rxoynWuN…</td><td>1</td></tr><tr><td>&quot;iyPavVpo8ojDYs…</td><td>1</td></tr><tr><td>&quot;vFCy3asEWbBER9…</td><td>1</td></tr><tr><td>&quot;qJ7O6cuUNfkDyn…</td><td>1</td></tr><tr><td>&quot;aWwqNqt6Ydlvny…</td><td>1</td></tr><tr><td>&quot;uqi5XwkBePwcPK…</td><td>1</td></tr><tr><td>&quot;2bmivBNj8NYvnp…</td><td>1</td></tr><tr><td>&quot;a6Q+OsCSRDcPxh…</td><td>1</td></tr><tr><td>&quot;no+8HEIDjbdx7/…</td><td>1</td></tr><tr><td>&quot;rgSTj7FHZUHsLX…</td><td>1</td></tr></tbody></table></div>"
      ],
      "text/plain": [
       "shape: (10, 2)\n",
       "┌───────────────────────────────────┬─────────────┐\n",
       "│ user                              ┆ place_count │\n",
       "│ ---                               ┆ ---         │\n",
       "│ str                               ┆ u32         │\n",
       "╞═══════════════════════════════════╪═════════════╡\n",
       "│ AS0KN9rxoynWuNZWvX3Aaqv9UwZFkLhq… ┆ 1           │\n",
       "│ iyPavVpo8ojDYs4NBNrbOVyIgUkpXSWt… ┆ 1           │\n",
       "│ vFCy3asEWbBER9NYcILtUCB+KYxRWIGM… ┆ 1           │\n",
       "│ qJ7O6cuUNfkDyn+ZOEYR+UiVEmAu/vYf… ┆ 1           │\n",
       "│ aWwqNqt6YdlvnygRgoEovZgf0GgBepj6… ┆ 1           │\n",
       "│ uqi5XwkBePwcPKJgGOxHKzzzXuZKU6iK… ┆ 1           │\n",
       "│ 2bmivBNj8NYvnp/15k0EqC+75T1OxTtC… ┆ 1           │\n",
       "│ a6Q+OsCSRDcPxhxYtOsWmY1eROZ5FGYO… ┆ 1           │\n",
       "│ no+8HEIDjbdx7/LxH9Xr+h4lyoar0MRT… ┆ 1           │\n",
       "│ rgSTj7FHZUHsLXZLLNj9+vxibHIowb2+… ┆ 1           │\n",
       "└───────────────────────────────────┴─────────────┘"
      ]
     },
     "execution_count": 15,
     "metadata": {},
     "output_type": "execute_result"
    }
   ],
   "source": [
    "df.head(10).group_by(\"user\").agg(place_count = pl.col(\"coordinate\").len()).collect(streaming=True)"
   ]
  },
  {
   "cell_type": "code",
   "execution_count": 18,
   "id": "407f3c8f-098c-4016-98c7-dcc5f8904a02",
   "metadata": {
    "tags": []
   },
   "outputs": [],
   "source": [
    "# Aggregate df to count unique pixels and colors per user\n",
    "agg_df = df.group_by('user').agg(\n",
    "    color_count=pl.col('pixel_color').len(),\n",
    "    place_count=pl.col('coordinate').len()\n",
    ")\n",
    "\n",
    "# Filter to find users with only one color or one place\n",
    "filtered_df = agg_df.filter(\n",
    "    (pl.col('color_count') == 1) | (pl.col('place_count') == 1)\n",
    ")"
   ]
  },
  {
   "cell_type": "code",
   "execution_count": 19,
   "id": "36785e10-24ee-46f4-8a79-3f38009e72cc",
   "metadata": {
    "tags": []
   },
   "outputs": [
    {
     "data": {
      "text/html": [
       "<div><style>\n",
       ".dataframe > thead > tr,\n",
       ".dataframe > tbody > tr {\n",
       "  text-align: right;\n",
       "  white-space: pre-wrap;\n",
       "}\n",
       "</style>\n",
       "<small>shape: (2_283_503, 3)</small><table border=\"1\" class=\"dataframe\"><thead><tr><th>user</th><th>color_count</th><th>place_count</th></tr><tr><td>str</td><td>u32</td><td>u32</td></tr></thead><tbody><tr><td>&quot;e/ufMrFnYyFGIo…</td><td>1</td><td>1</td></tr><tr><td>&quot;nrdtwPkNUh/XYJ…</td><td>1</td><td>1</td></tr><tr><td>&quot;RKqipoOACpTqmD…</td><td>1</td><td>1</td></tr><tr><td>&quot;fkXDn38GzdVINe…</td><td>1</td><td>1</td></tr><tr><td>&quot;99TGCB4F+PWlXV…</td><td>1</td><td>1</td></tr><tr><td>&quot;wta65eagkJoi9d…</td><td>1</td><td>1</td></tr><tr><td>&quot;S6/kncQ7ZF174O…</td><td>1</td><td>1</td></tr><tr><td>&quot;W9Kl90kz+9Vi/l…</td><td>1</td><td>1</td></tr><tr><td>&quot;7IyI3TCTpfyA4g…</td><td>1</td><td>1</td></tr><tr><td>&quot;ILyryn/F6bnOkU…</td><td>1</td><td>1</td></tr><tr><td>&quot;yrmtPFC+VH3mZD…</td><td>1</td><td>1</td></tr><tr><td>&quot;/n/JCnYtCfM+cD…</td><td>1</td><td>1</td></tr><tr><td>&hellip;</td><td>&hellip;</td><td>&hellip;</td></tr><tr><td>&quot;R2mg//UGqYxh5T…</td><td>1</td><td>1</td></tr><tr><td>&quot;MtpysgFsVnGCrL…</td><td>1</td><td>1</td></tr><tr><td>&quot;i8ciHJM2r8mHNf…</td><td>1</td><td>1</td></tr><tr><td>&quot;KAP55zbewBkJQF…</td><td>1</td><td>1</td></tr><tr><td>&quot;USZny6Xp39Rj72…</td><td>1</td><td>1</td></tr><tr><td>&quot;BsQjnIalAv4fPW…</td><td>1</td><td>1</td></tr><tr><td>&quot;IIE9HtsiaPexpF…</td><td>1</td><td>1</td></tr><tr><td>&quot;Q9QEtw5zIrpieS…</td><td>1</td><td>1</td></tr><tr><td>&quot;2jJiTZxLYWuFXu…</td><td>1</td><td>1</td></tr><tr><td>&quot;RqaxRkzhjXkKu5…</td><td>1</td><td>1</td></tr><tr><td>&quot;5gbridTEW9llSD…</td><td>1</td><td>1</td></tr><tr><td>&quot;aYHkrpg8MbDhfQ…</td><td>1</td><td>1</td></tr></tbody></table></div>"
      ],
      "text/plain": [
       "shape: (2_283_503, 3)\n",
       "┌───────────────────────────────────┬─────────────┬─────────────┐\n",
       "│ user                              ┆ color_count ┆ place_count │\n",
       "│ ---                               ┆ ---         ┆ ---         │\n",
       "│ str                               ┆ u32         ┆ u32         │\n",
       "╞═══════════════════════════════════╪═════════════╪═════════════╡\n",
       "│ e/ufMrFnYyFGIo/KglZmVmVU1fqk9laA… ┆ 1           ┆ 1           │\n",
       "│ nrdtwPkNUh/XYJbqmuvGPtXl7mxttgmk… ┆ 1           ┆ 1           │\n",
       "│ RKqipoOACpTqmD4gLJ18Cr9mRlanUcSJ… ┆ 1           ┆ 1           │\n",
       "│ fkXDn38GzdVINeNAlrLbxTiJ4r9CraVh… ┆ 1           ┆ 1           │\n",
       "│ 99TGCB4F+PWlXVPDvialFPJxMxrNJsz2… ┆ 1           ┆ 1           │\n",
       "│ …                                 ┆ …           ┆ …           │\n",
       "│ Q9QEtw5zIrpieSfPSFrzMegxRtxWnVpC… ┆ 1           ┆ 1           │\n",
       "│ 2jJiTZxLYWuFXulgCbraTPcA68VReOHx… ┆ 1           ┆ 1           │\n",
       "│ RqaxRkzhjXkKu5R3iA5lhiS4SNQob5jr… ┆ 1           ┆ 1           │\n",
       "│ 5gbridTEW9llSDfECrBU9QNAf6DoCG+X… ┆ 1           ┆ 1           │\n",
       "│ aYHkrpg8MbDhfQ7bgNRqPanCzUXjOvWE… ┆ 1           ┆ 1           │\n",
       "└───────────────────────────────────┴─────────────┴─────────────┘"
      ]
     },
     "execution_count": 19,
     "metadata": {},
     "output_type": "execute_result"
    }
   ],
   "source": [
    "filtered_df.collect(streaming=True)"
   ]
  }
 ],
 "metadata": {
  "kernelspec": {
   "display_name": "Python 3 (ipykernel)",
   "language": "python",
   "name": "python3"
  },
  "language_info": {
   "codemirror_mode": {
    "name": "ipython",
    "version": 3
   },
   "file_extension": ".py",
   "mimetype": "text/x-python",
   "name": "python",
   "nbconvert_exporter": "python",
   "pygments_lexer": "ipython3",
   "version": "3.11.4"
  }
 },
 "nbformat": 4,
 "nbformat_minor": 5
}
