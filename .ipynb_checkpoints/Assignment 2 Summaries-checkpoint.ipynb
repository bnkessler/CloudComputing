{
 "cells": [
  {
   "cell_type": "code",
   "execution_count": 1,
   "id": "118b2b25-5ca2-4a2d-bc94-57bc45d0238f",
   "metadata": {},
   "outputs": [],
   "source": [
    "import pandas as pd\n",
    "import numpy as np"
   ]
  },
  {
   "cell_type": "code",
   "execution_count": 2,
   "id": "da078e38",
   "metadata": {},
   "outputs": [],
   "source": [
    "data = pd.read_csv('merged-csv-condensed-files.csv')"
   ]
  },
  {
   "cell_type": "code",
   "execution_count": 4,
   "id": "e1a2bcbc",
   "metadata": {},
   "outputs": [
    {
     "data": {
      "text/plain": [
       "0.3002309254892046"
      ]
     },
     "execution_count": 4,
     "metadata": {},
     "output_type": "execute_result"
    }
   ],
   "source": [
    "#Sanity Check\n",
    "len(data[data['frequency'] == 1])/len(data)"
   ]
  },
  {
   "cell_type": "code",
   "execution_count": 5,
   "id": "4ac5f226",
   "metadata": {},
   "outputs": [
    {
     "data": {
      "text/plain": [
       "0.007013857708922725"
      ]
     },
     "execution_count": 5,
     "metadata": {},
     "output_type": "execute_result"
    }
   ],
   "source": [
    "#Sanity Check\n",
    "len(data[data['frequency'] == 20])/len(data)"
   ]
  },
  {
   "cell_type": "code",
   "execution_count": 7,
   "id": "c98fda03",
   "metadata": {},
   "outputs": [
    {
     "data": {
      "text/plain": [
       "10.761535856531916"
      ]
     },
     "execution_count": 7,
     "metadata": {},
     "output_type": "execute_result"
    }
   ],
   "source": [
    "#Average number of pixels placed\n",
    "data['frequency'].mean()"
   ]
  },
  {
   "cell_type": "code",
   "execution_count": 6,
   "id": "6fe191c7",
   "metadata": {},
   "outputs": [
    {
     "name": "stdout",
     "output_type": "stream",
     "text": [
      "    Frequency  Proportion\n",
      "0         1.0    0.300231\n",
      "1         2.0    0.135461\n",
      "2         3.0    0.083810\n",
      "3         4.0    0.059081\n",
      "4         5.0    0.045197\n",
      "5         6.0    0.036274\n",
      "6         7.0    0.029906\n",
      "7         8.0    0.025534\n",
      "8         9.0    0.021962\n",
      "9        10.0    0.019214\n",
      "10       11.0    0.016910\n",
      "11       12.0    0.014942\n",
      "12       13.0    0.013268\n",
      "13       14.0    0.012129\n",
      "14       15.0    0.010961\n",
      "15       16.0    0.010032\n",
      "16       17.0    0.009105\n",
      "17       18.0    0.008228\n",
      "18       19.0    0.007598\n",
      "19       20.0    0.007014\n"
     ]
    }
   ],
   "source": [
    "#For loop to find the proportion of users who placed a certain amount of pixels. Only did the first 20 for simplicity's sake.\n",
    "df = pd.DataFrame(columns=['Frequency', 'Proportion'])\n",
    "for i in np.arange(1, 21):\n",
    "    x = len(data[data['frequency'] == i])/len(data)\n",
    "    df = df.append({'Frequency': i, 'Proportion': x}, ignore_index=True)\n",
    "\n",
    "print(df)"
   ]
  },
  {
   "cell_type": "code",
   "execution_count": null,
   "id": "99abbc5e",
   "metadata": {},
   "outputs": [],
   "source": [
    "df.to_csv(\"props.csv\")"
   ]
  }
 ],
 "metadata": {
  "kernelspec": {
   "display_name": "Python 3 (ipykernel)",
   "language": "python",
   "name": "python3"
  },
  "language_info": {
   "codemirror_mode": {
    "name": "ipython",
    "version": 3
   },
   "file_extension": ".py",
   "mimetype": "text/x-python",
   "name": "python",
   "nbconvert_exporter": "python",
   "pygments_lexer": "ipython3",
   "version": "3.9.15"
  }
 },
 "nbformat": 4,
 "nbformat_minor": 5
}
