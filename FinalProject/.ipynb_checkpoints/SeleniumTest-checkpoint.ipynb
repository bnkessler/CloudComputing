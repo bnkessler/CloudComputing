{
 "cells": [
  {
   "cell_type": "code",
   "execution_count": 1,
   "id": "add65f29-cdb1-4496-a616-6248c591922d",
   "metadata": {
    "tags": []
   },
   "outputs": [
    {
     "ename": "ModuleNotFoundError",
     "evalue": "No module named 'selenium'",
     "output_type": "error",
     "traceback": [
      "\u001b[0;31m---------------------------------------------------------------------------\u001b[0m",
      "\u001b[0;31mModuleNotFoundError\u001b[0m                       Traceback (most recent call last)",
      "Cell \u001b[0;32mIn[1], line 1\u001b[0m\n\u001b[0;32m----> 1\u001b[0m \u001b[38;5;28;01mfrom\u001b[39;00m \u001b[38;5;21;01mselenium\u001b[39;00m \u001b[38;5;28;01mimport\u001b[39;00m webdriver\n\u001b[1;32m      2\u001b[0m \u001b[38;5;28;01mfrom\u001b[39;00m \u001b[38;5;21;01mselenium\u001b[39;00m\u001b[38;5;21;01m.\u001b[39;00m\u001b[38;5;21;01mwebdriver\u001b[39;00m\u001b[38;5;21;01m.\u001b[39;00m\u001b[38;5;21;01mchrome\u001b[39;00m\u001b[38;5;21;01m.\u001b[39;00m\u001b[38;5;21;01moptions\u001b[39;00m \u001b[38;5;28;01mimport\u001b[39;00m Options\n",
      "\u001b[0;31mModuleNotFoundError\u001b[0m: No module named 'selenium'"
     ]
    }
   ],
   "source": [
    "from selenium import webdriver\n",
    "from selenium.webdriver.chrome.options import Options"
   ]
  },
  {
   "cell_type": "code",
   "execution_count": null,
   "id": "c59b3b47-3119-4fe9-bcdb-8cebd1458cd2",
   "metadata": {},
   "outputs": [],
   "source": [
    "# Setup options for the headless browser\n",
    "options = Options()\n",
    "options.headless = True\n",
    "\n",
    "# Initialize the browser\n",
    "browser = webdriver.Chrome(options=options)\n",
    "\n",
    "# Load the webpage\n",
    "browser.get(\"https://example.com\")\n",
    "\n",
    "# Use appropriate Selenium commands to interact with the page\n",
    "# For example, find elements, click buttons, etc.\n",
    "\n",
    "# After interactions, you can extract the data\n",
    "data_element = browser.find_element_by_xpath(\"//div[@id='data']\")\n",
    "data = data_element.text\n",
    "print(data)\n",
    "\n",
    "# Close the browser when done\n",
    "browser.quit()"
   ]
  }
 ],
 "metadata": {
  "kernelspec": {
   "display_name": "Python 3 (ipykernel)",
   "language": "python",
   "name": "python3"
  },
  "language_info": {
   "codemirror_mode": {
    "name": "ipython",
    "version": 3
   },
   "file_extension": ".py",
   "mimetype": "text/x-python",
   "name": "python",
   "nbconvert_exporter": "python",
   "pygments_lexer": "ipython3",
   "version": "3.11.4"
  }
 },
 "nbformat": 4,
 "nbformat_minor": 5
}
