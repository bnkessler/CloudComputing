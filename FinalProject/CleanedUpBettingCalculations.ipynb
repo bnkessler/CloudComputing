{
 "cells": [
  {
   "cell_type": "code",
   "execution_count": 1,
   "id": "21c15031-9f5a-4262-a979-257828bcf09c",
   "metadata": {
    "tags": []
   },
   "outputs": [],
   "source": [
    "# Necessary Libraries\n",
    "import pandas as pd\n",
    "import numpy as np\n",
    "import sys\n",
    "import time\n",
    "import boto3\n",
    "from datetime import datetime, timedelta\n",
    "from nba_api.stats.endpoints import AllTimeLeadersGrids, commonplayerinfo, CommonTeamRoster\n",
    "from nba_api.stats.static import teams\n",
    "from scipy.stats import chi2_contingency, ttest_ind"
   ]
  },
  {
   "cell_type": "code",
   "execution_count": null,
   "id": "bdf6a503-c40b-4819-a199-27a500ad9169",
   "metadata": {},
   "outputs": [],
   "source": [
    "team_names = {\n",
    "    'Atlanta Hawks': 'ATL',\n",
    "    'Boston Celtics': 'BOS',\n",
    "    'Cleveland Cavaliers': 'CLE',\n",
    "    'New Orleans Pelicans': 'NOP',\n",
    "    'Chicago Bulls': 'CHI',\n",
    "    'Dallas Mavericks': 'DAL',\n",
    "    'Denver Nuggets': 'DEN',\n",
    "    'Golden State Warriors': 'GSW',\n",
    "    'Houston Rockets': 'HOU',\n",
    "    'LA Clippers': 'LAC',\n",
    "    'Los Angeles Lakers': 'LAL',\n",
    "    'Miami Heat': 'MIA',\n",
    "    'Milwaukee Bucks': 'MIL',\n",
    "    'Minnesota Timberwolves': 'MIN',\n",
    "    'Brooklyn Nets': 'BKN',\n",
    "    'New York Knicks': 'NYK',\n",
    "    'Orlando Magic': 'ORL',\n",
    "    'Indiana Pacers': 'IND',\n",
    "    'Philadelphia 76ers': 'PHI',\n",
    "    'Phoenix Suns': 'PHX',\n",
    "    'Portland Trail Blazers': 'POR',\n",
    "    'Sacramento Kings': 'SAC',\n",
    "    'San Antonio Spurs': 'SAS',\n",
    "    'Oklahoma City Thunder': 'OKC',\n",
    "    'Toronto Raptors': 'TOR',\n",
    "    'Utah Jazz': 'UTA',\n",
    "    'Memphis Grizzlies': 'MEM',\n",
    "    'Washington Wizards': 'WAS',\n",
    "    'Detroit Pistons': 'DET',\n",
    "    'Charlotte Hornets': 'CHA'\n",
    "}"
   ]
  },
  {
   "cell_type": "code",
   "execution_count": null,
   "id": "caf3c4d1-9148-4ebd-9696-3e974eaf57df",
   "metadata": {},
   "outputs": [],
   "source": [
    "def read_csv_from_s3(bucket_name, file_key):\n",
    "    # Initialize Boto3 S3 client\n",
    "    s3 = boto3.client('s3')\n",
    "    try:\n",
    "        # Read CSV file directly into Pandas DataFrame\n",
    "        response = s3.get_object(Bucket=bucket_name, Key=file_key)\n",
    "        df = pd.read_csv(response['Body'])\n",
    "        return df\n",
    "    except Exception as e:\n",
    "        print(f\"Error reading CSV file from S3: {e}\")\n",
    "        return None"
   ]
  },
  {
   "cell_type": "code",
   "execution_count": null,
   "id": "dc63760d-711a-4f75-b18d-da7983df17dd",
   "metadata": {},
   "outputs": [],
   "source": [
    "def write_tuples_to_s3(tuples_list, bucket_name, file_key):\n",
    "    # Initialize Boto3 S3 client\n",
    "    s3 = boto3.client('s3')\n",
    "    try:\n",
    "        # Prepare data as string\n",
    "        data = '\\n'.join([' '.join(map(str, tup)) for tup in tuples_list])\n",
    "        \n",
    "        # Upload data to S3\n",
    "        response = s3.put_object(Bucket=bucket_name, Key=file_key, Body=data.encode('utf-8'))\n",
    "        \n",
    "        print(f\"Data written to s3://{bucket_name}/{file_key} successfully.\")\n",
    "    except Exception as e:\n",
    "        print(f\"Error writing data to S3: {e}\")"
   ]
  },
  {
   "cell_type": "code",
   "execution_count": null,
   "id": "0cb00e5e-9ec4-490d-9cd5-668aab81c91e",
   "metadata": {},
   "outputs": [],
   "source": [
    "def get_team_ids():\n",
    "    # Retrieve all NBA teams\n",
    "    nba_teams = teams.get_teams()\n",
    "    \n",
    "    team_ids = {}\n",
    "    # Extract team IDs\n",
    "    for team in nba_teams:\n",
    "        team_ids[team[\"full_name\"]] = team['id']\n",
    "    \n",
    "    return team_ids"
   ]
  },
  {
   "cell_type": "code",
   "execution_count": 2,
   "id": "73c0fc56-20f4-460c-bf76-2ce78de201ff",
   "metadata": {
    "tags": []
   },
   "outputs": [],
   "source": [
    "# Collects all games for specified teams between a set of yea\n",
    "def get_all_games(start_year = \"2017-9-1\", end_year = None, teams = \"all\"):\n",
    "    start_year = datetime.strptime(start_year, \"%Y-%m-%d\")\n",
    "    team_ids = get_team_ids()\n",
    "    dfs = []\n",
    "    if teams == \"all\":\n",
    "        for team, team_id in team_ids.items():\n",
    "            print(f\"Attempting to collect {team}\")\n",
    "            gamefinder = leaguegamefinder.LeagueGameFinder(team_id_nullable=team_id, timeout=60)\n",
    "            games = gamefinder.get_data_frames()[0]\n",
    "            games[\"GAME_DATE\"] = games[\"GAME_DATE\"].apply(lambda x: datetime.strptime(x, \"%Y-%m-%d\"))\n",
    "            games = games[games[\"GAME_DATE\"] >= start_year]\n",
    "            dfs.append(games)\n",
    "            print(f\"Successfully collected {team}\")\n",
    "            time.sleep(2.5)\n",
    "        return dfs\n",
    "    else:\n",
    "        for team in taems:\n",
    "            team_id = team_ids[team]\n",
    "            gamefinder = leaguegamefinder.LeagueGameFinder(team_id_nullable=team_id)\n",
    "            games = gamefinder.get_data_frames()[0]\n",
    "            games[\"GAME_DATE\"] = games[\"GAME_DATE\"].apply(lambda x: datetime.strptime(x, \"%Y-%m-%d\"))\n",
    "            games = games[games[\"GAME_DATE\"] >= start_year]\n",
    "            dfs.append(games)\n",
    "        return dfs"
   ]
  },
  {
   "cell_type": "code",
   "execution_count": null,
   "id": "7d05a98c-38ed-4a78-bde8-a5a565cd2469",
   "metadata": {},
   "outputs": [],
   "source": [
    "def mark_birthday_games(games_df, players_df, day_range):\n",
    "   \n",
    "    birthday_indexes = []\n",
    "    games_df[\"birthday_game\"] = 0\n",
    "\n",
    "    for index, player_row in players_df.iterrows():\n",
    "        player_team = player_row[\"Team\"]\n",
    "        player_birthday = datetime.strptime(player_row[\"Birthday\"], \"%Y-%m-%d\")\n",
    "        \n",
    "        birthday_range_start = player_birthday - timedelta(days=day_range)\n",
    "        birthday_range_end = player_birthday + timedelta(days=day_range)\n",
    "        \n",
    "        games_to_check = games_df[(games_df[\"home_team_abbrev\"] == player_team) | (games_df[\"visit_team_abbrev\"] == player_team)]\n",
    "        birthday_games = games_to_check[(games_to_check[\"game_date\"].dt.month == birthday_range_start.month) & \n",
    "                                        (games_to_check['game_date'].dt.day >= birthday_range_start.day) &\n",
    "                                        (games_to_check['game_date'].dt.day <= birthday_range_end.day)]\n",
    "        if len(birthday_games.index) >= 1:\n",
    "            birthday_indexes.append([*birthday_games.index])\n",
    "    \n",
    "    for i in birthday_indexes:\n",
    "        # games_df[\"birthday_game\"].iloc[i] = 1\n",
    "        games_df.loc[i, \"birthday_game\"] = 1\n",
    "        \n",
    "    return games_df"
   ]
  },
  {
   "cell_type": "code",
   "execution_count": null,
   "id": "6472775d-c94b-4598-9176-3d9d5e1edea8",
   "metadata": {},
   "outputs": [],
   "source": [
    "# Collecting player birthday data from nba_api\n",
    "filtered_player_birthdays = read_csv_from_s3(\"bttj-final-s3\", \"NBA_DOB_InSeason.csv\")\n",
    "active_player_birthdays = []\n",
    "count = 0\n",
    "for player_id in filtered_player_birthdays[\"id\"]:\n",
    "    count += 1\n",
    "    if count % 100 == 0:\n",
    "        print(\"Starting Sleep\")\n",
    "        time.sleep(300)\n",
    "    player_info = commonplayerinfo.CommonPlayerInfo(player_id = player_id, timeout=60).get_data_frames()[0]\n",
    "    time.sleep(.5)\n",
    "    try:\n",
    "        if (2017 <= player_info[\"FROM_YEAR\"][0] <= 2024) or (2017 <= player_info[\"TO_YEAR\"][0] <= 2024):\n",
    "            print(f\"Collected {player_info['DISPLAY_FIRST_LAST'][0]}\")\n",
    "            active_player_birthdays.append((player_info[\"DISPLAY_FIRST_LAST\"][0], player_info[\"TEAM_ABBREVIATION\"][0], player_info[\"BIRTHDATE\"][0].split(\"T\")[0], player_info[\"FROM_YEAR\"][0], player_info[\"TO_YEAR\"][0]))\n",
    "    except TypeError:\n",
    "        continue\n",
    "        \n",
    "print(\"Completed Collection\")"
   ]
  },
  {
   "cell_type": "code",
   "execution_count": null,
   "id": "4f5acd61-f3dc-4066-a3d1-79bf3f0ea070",
   "metadata": {},
   "outputs": [],
   "source": [
    "# Function to mark if a team had covered the spread\n",
    "def team_covered(games_df, teams):\n",
    "    \n",
    "    games_df[\"team_covered\"] = 0\n",
    "    covered = {}\n",
    "    \n",
    "    for team in teams:\n",
    "        for index, game_row in games_df[games_df[\"TEAM_NAME\"] == team].iterrows():\n",
    "            if ((game_row[\"favorite\"] == team) and (game_row[\"favorite_covered\"] == 1)) | ((game_row[\"favorite\"] != team) and (game_row[\"underdog_covered\"] == 1)):\n",
    "                covered[index] = 1\n",
    "            else:\n",
    "                covered[index] = 0\n",
    "    \n",
    "    games_df[\"team_covered\"] = games_df.index.map(covered)\n",
    "    \n",
    "    return games_df"
   ]
  },
  {
   "cell_type": "code",
   "execution_count": null,
   "id": "25ab58a5-b99d-4186-a1c8-11c5fe11a822",
   "metadata": {},
   "outputs": [],
   "source": [
    "# Collecting all league games starting September 9 2017\n",
    "# This date was chosen because sports betting became legal in the NBA for the season starting after this date\n",
    "all_games = get_all_games(start_year = \"2017-9-1\")\n",
    "all_games = pd.concat(all_games)\n",
    "all_games"
   ]
  },
  {
   "cell_type": "code",
   "execution_count": null,
   "id": "98883643-6184-4143-a935-20b2b633df9f",
   "metadata": {},
   "outputs": [],
   "source": [
    "all_games_filtered_columns = all_games[[\"TEAM_NAME\", \"GAME_DATE\", \"MATCHUP\", \"WL\"]]\n",
    "all_games_filtered_columns = all_games_filtered_columns.reset_index()\n",
    "all_games_filtered_columns = all_games_filtered_columns.drop(\"index\", axis = 1)\n",
    "all_games_filtered_columns[\"TEAM_NAME\"] = all_games_filtered_columns[\"TEAM_NAME\"].apply(lambda x: team_names[x])\n",
    "all_games_filtered_columns = all_games_filtered_columns[~all_games_filtered_columns[\"MATCHUP\"].isin(drop_games[\"0\"])]\n",
    "all_games_filtered_columns"
   ]
  },
  {
   "cell_type": "code",
   "execution_count": null,
   "id": "c5ec4ed8-3ba9-4418-971c-ff1695b24a08",
   "metadata": {},
   "outputs": [],
   "source": [
    "# Reading in betting line data from s3\n",
    "betting_lines = read_csv_from_s3(\"bttj-final-s3\", \"api-data.csv\")\n",
    "\n",
    "betting_lines = betting_lines.drop(\"Unnamed: 0\", axis = 1)\n",
    "\n",
    "betting_lines[\"game_date\"] = pd.to_datetime(betting_lines[\"game_date\"], format='%Y-%m-%d', errors=\"coerce\")"
   ]
  },
  {
   "cell_type": "code",
   "execution_count": null,
   "id": "4cafc9d1-6af6-4e56-87a1-3aeb41fa73de",
   "metadata": {},
   "outputs": [],
   "source": [
    "# Cleaning player birthday dataframe\n",
    "player_birthday_df = pd.DataFrame(active_player_birthdays, columns = [\"Name\", \"Team\", \"Birthday\", \"From_Year\", \"To_Year\"])\n",
    "player_birthday_df = player_birthday_df.merge(filtered_player_birthdays[[\"Name\", \"id\"]], on = [\"Name\"])\n",
    "player_birthday_df = player_birthday_df[player_birthday_df[\"Team\"] != \"\"]\n",
    "player_birthday_df = player_birthday_df.reset_index().drop(\"index\", axis = 1)\n",
    "\n",
    "player_birthday_df"
   ]
  },
  {
   "cell_type": "code",
   "execution_count": null,
   "id": "33bf63ce-cf84-4d24-926c-1a866001c73b",
   "metadata": {},
   "outputs": [],
   "source": [
    "# Merging data to get home and away games for all teams\n",
    "away_games = pd.merge(betting_lines, all_games_filtered_columns, how = \"left\", left_on = [\"game_date\", \"visit_team_abbrev\"], right_on = [\"GAME_DATE\", \"TEAM_NAME\"]).dropna()\n",
    "home_games = pd.merge(betting_lines, all_games_filtered_columns, how = \"left\", left_on = [\"game_date\", \"home_team_abbrev\"], right_on = [\"GAME_DATE\", \"TEAM_NAME\"]).dropna()\n",
    "\n",
    "merged_data = pd.concat([home_games, away_games]).reset_index().drop(\"index\", axis = 1)\n",
    "merged_data = merged_data.drop([\"GAME_DATE\"], axis = 1)"
   ]
  },
  {
   "cell_type": "code",
   "execution_count": null,
   "id": "954e440b-645d-4f07-b0ac-bcace2eaa694",
   "metadata": {},
   "outputs": [],
   "source": [
    "# Marking birthday games and spread\n",
    "birthday_games_df = mark_birthday_games(merged_data, player_birthday_df, 1)\n",
    "birthday_games_df = team_covered(birthday_games_df, pd.unique(birthday_games_df[\"home_team_abbrev\"]))"
   ]
  },
  {
   "cell_type": "code",
   "execution_count": null,
   "id": "b4836ae7-59e9-41d2-b70d-665eab413c00",
   "metadata": {},
   "outputs": [],
   "source": [
    "# Statistics\n",
    "def chi_square_test_for_team(group):\n",
    "    contingency_table = pd.crosstab(group['team_covered'], group['birthday_game'])\n",
    "    chi2, p, dof, expected = chi2_contingency(contingency_table)\n",
    "    return chi2, p, dof, expected\n",
    "\n",
    "def t_test_for_team(group):\n",
    "    birthday_games = group[group['birthday_game'] == 1]['WL']\n",
    "    birthday_games = birthday_games.apply(lambda x: wl_dict[x])\n",
    "    non_birthday_games = group[group['birthday_game'] == 0]['WL']\n",
    "    non_birthday_games = non_birthday_games.apply(lambda x: wl_dict[x])\n",
    "    \n",
    "    t_statistic, p_value = ttest_ind(birthday_games, non_birthday_games)\n",
    "    return t_statistic, p_value"
   ]
  },
  {
   "cell_type": "code",
   "execution_count": null,
   "id": "2165195c-f09f-4561-984f-00f786d58fd1",
   "metadata": {},
   "outputs": [],
   "source": [
    "# Create full results list\n",
    "full_results = []\n",
    "# Group by 'TEAM_NAME' and apply chi-square test to check significance\n",
    "results = birthday_games_df.groupby('TEAM_NAME').apply(chi_square_test_for_team)\n",
    "\n",
    "# Print results for each team\n",
    "full_results.append((\"Chi-Square\"))\n",
    "for team, result in results.items():\n",
    "    chi2, p, dof, expected = result\n",
    "    if p <= .1:\n",
    "        full_results.append((team, \"Chi-square Statistic:\", chi2, \"P-value:\", p))\n",
    "        \n",
    "# Group by \"Team Name\" and apply t-test for each team\n",
    "results = birthday_games_df.groupby('TEAM_NAME').apply(t_test_for_team)\n",
    "\n",
    "# Print results for each team\n",
    "full_results.append((\"T-Test Team\"))\n",
    "for team, result in results.items():\n",
    "    t_statistic, p_value = result\n",
    "    if p_value <= .10:\n",
    "        full_results.append((\"Team:\", team, \"T-Statistic:\", t_statistic, \"P-value:\", p_value))\n",
    "\n",
    "# Group by \"Team Name\" and \"Home Team abbrev (city)\" and apply t-test for each team\n",
    "results = birthday_games_df.groupby(['TEAM_NAME', 'home_team_abbrev']).apply(t_test_for_team)\n",
    "\n",
    "# Print results for each team and city\n",
    "full_results.append((\"T-Test Team and City\"))\n",
    "for (team, city), result in results.items():\n",
    "    t_statistic, p_value = result\n",
    "    if (p_value < .05) and (abs(t_statistic) != np.inf):\n",
    "        full_results.append((\"Team:\", team, \"City:\", city, \"T-Statistic:\", t_statistic, \"P-value:\", p_value))\n",
    "        \n",
    "# Print results to s3\n",
    "write_tuples_to_s3(full_results, \"bttj-final-s3\", \"Results.txt\")"
   ]
  }
 ],
 "metadata": {
  "kernelspec": {
   "display_name": "Python 3 (ipykernel)",
   "language": "python",
   "name": "python3"
  },
  "language_info": {
   "codemirror_mode": {
    "name": "ipython",
    "version": 3
   },
   "file_extension": ".py",
   "mimetype": "text/x-python",
   "name": "python",
   "nbconvert_exporter": "python",
   "pygments_lexer": "ipython3",
   "version": "3.11.4"
  }
 },
 "nbformat": 4,
 "nbformat_minor": 5
}
